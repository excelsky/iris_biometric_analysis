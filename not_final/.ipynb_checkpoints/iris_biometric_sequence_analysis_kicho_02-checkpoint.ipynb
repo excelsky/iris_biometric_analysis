{
 "cells": [
  {
   "cell_type": "markdown",
   "metadata": {},
   "source": [
    "# 1. Import libraries"
   ]
  },
  {
   "cell_type": "code",
   "execution_count": 1,
   "metadata": {
    "_kg_hide-input": false,
    "collapsed": false,
    "jupyter": {
     "outputs_hidden": false
    }
   },
   "outputs": [],
   "source": [
    "import matplotlib.pyplot as plt # plotting\n",
    "import numpy as np # linear algebra\n",
    "import os # accessing directory structure\n",
    "import pandas as pd # data processing, CSV file I/O (e.g. pd.read_csv)\n",
    "\n",
    "from sklearn.model_selection import train_test_split\n",
    "from sklearn.naive_bayes import GaussianNB\n",
    "# from scipy import misc\n",
    "# from hmmlearn import hmm"
   ]
  },
  {
   "cell_type": "markdown",
   "metadata": {},
   "source": [
    "# 2. Global Variables and Load images"
   ]
  },
  {
   "cell_type": "markdown",
   "metadata": {},
   "source": [
    "## 2.1. Global Variables"
   ]
  },
  {
   "cell_type": "code",
   "execution_count": 67,
   "metadata": {},
   "outputs": [],
   "source": [
    "TOTAL_NUMBER_OF_PEOPLE = 45\n",
    "NUMBER_OF_EACH_IRIS_PER_PERSON = 5\n",
    "TOTAL_NUMBER_OF_EACH_IRIS = TOTAL_NUMBER_OF_PEOPLE * NUMBER_OF_EACH_IRIS_PER_PERSON"
   ]
  },
  {
   "cell_type": "markdown",
   "metadata": {},
   "source": [
    "## 2.2. Load images into 2 lists: left_iris_l and right_iris_l"
   ]
  },
  {
   "cell_type": "code",
   "execution_count": 2,
   "metadata": {
    "_kg_hide-input": false,
    "collapsed": false,
    "jupyter": {
     "outputs_hidden": false
    }
   },
   "outputs": [],
   "source": [
    "path = os.getcwd()\n",
    "left_iris_l = []\n",
    "right_iris_l = []\n",
    "\n",
    "for dirname, _, filenames in os.walk(path+'/data/MMU-Iris-Database/'):\n",
    "    for filename in filenames:\n",
    "        if filename not in ['.DS_Store', 'ReadMe.txt', 'Thumbs.db']:\n",
    "            dir_file_s = os.path.join(dirname, filename)\n",
    "#             print(filename)\n",
    "            dirname_l = dirname.split(\"/\")\n",
    "            if dirname_l[-1] == 'left':\n",
    "                left_iris_l.append(plt.imread(dir_file_s))\n",
    "            elif dirname_l[-1] == 'right':\n",
    "                right_iris_l.append(plt.imread(dir_file_s))\n",
    "            else:\n",
    "                print(f'Neither left or right iris in {dir_file_s}')"
   ]
  },
  {
   "cell_type": "markdown",
   "metadata": {},
   "source": [
    "## 2.3. Check the size of the 2 lists and each file"
   ]
  },
  {
   "cell_type": "code",
   "execution_count": 3,
   "metadata": {},
   "outputs": [
    {
     "name": "stdout",
     "output_type": "stream",
     "text": [
      "225\n",
      "225\n"
     ]
    }
   ],
   "source": [
    "print(len(left_iris_l))\n",
    "print(len(right_iris_l))"
   ]
  },
  {
   "cell_type": "code",
   "execution_count": 4,
   "metadata": {},
   "outputs": [
    {
     "name": "stdout",
     "output_type": "stream",
     "text": [
      "<class 'numpy.ndarray'> \n",
      "\n",
      "(240, 320, 3) \n",
      "\n",
      "[[[200 204 200]\n",
      "  [184 188 184]\n",
      "  [184 188 184]\n",
      "  ...\n",
      "  [ 64  68  64]\n",
      "  [ 72  76  72]\n",
      "  [ 80  76  72]]\n",
      "\n",
      " [[192 200 192]\n",
      "  [184 188 184]\n",
      "  [192 184 184]\n",
      "  ...\n",
      "  [ 80  84  80]\n",
      "  [ 72  76  72]\n",
      "  [ 80  80  80]]\n",
      "\n",
      " [[192 196 192]\n",
      "  [184 188 184]\n",
      "  [176 180 176]\n",
      "  ...\n",
      "  [ 40  52  40]\n",
      "  [ 64  60  64]\n",
      "  [ 80  76  72]]\n",
      "\n",
      " ...\n",
      "\n",
      " [[240 240 232]\n",
      "  [184 192 192]\n",
      "  [184 188 184]\n",
      "  ...\n",
      "  [128 124 120]\n",
      "  [120 128 128]\n",
      "  [128 124 120]]\n",
      "\n",
      " [[248 248 248]\n",
      "  [248 248 240]\n",
      "  [232 240 240]\n",
      "  ...\n",
      "  [152 156 152]\n",
      "  [160 160 160]\n",
      "  [160 156 152]]\n",
      "\n",
      " [[  0   4   0]\n",
      "  [  8   8   8]\n",
      "  [  0   4   0]\n",
      "  ...\n",
      "  [  0   8   0]\n",
      "  [  8   4   8]\n",
      "  [  8   8   8]]]\n"
     ]
    }
   ],
   "source": [
    "print(type(left_iris_l[0]), '\\n')\n",
    "print(left_iris_l[0].shape, '\\n')\n",
    "print(left_iris_l[0])"
   ]
  },
  {
   "cell_type": "markdown",
   "metadata": {},
   "source": [
    "# 3. Flatten"
   ]
  },
  {
   "cell_type": "markdown",
   "metadata": {},
   "source": [
    "## 3.1. flatten()"
   ]
  },
  {
   "cell_type": "code",
   "execution_count": 6,
   "metadata": {},
   "outputs": [],
   "source": [
    "def flatten(t):\n",
    "    return [item for sublist in t for item in sublist]"
   ]
  },
  {
   "cell_type": "markdown",
   "metadata": {},
   "source": [
    "## 3.2. Flatten the 2 lists of iris data: both left and right"
   ]
  },
  {
   "cell_type": "code",
   "execution_count": 7,
   "metadata": {},
   "outputs": [],
   "source": [
    "flat_left_iris_l = []\n",
    "for left_iris in left_iris_l:\n",
    "    flat_left_iris_l.append(flatten(left_iris))"
   ]
  },
  {
   "cell_type": "code",
   "execution_count": 8,
   "metadata": {},
   "outputs": [],
   "source": [
    "flat_right_iris_l = []\n",
    "for right_iris in right_iris_l:\n",
    "    flat_right_iris_l.append(flatten(right_iris))"
   ]
  },
  {
   "cell_type": "markdown",
   "metadata": {},
   "source": [
    "## 3.3. Check the resulf of flatten"
   ]
  },
  {
   "cell_type": "code",
   "execution_count": 13,
   "metadata": {},
   "outputs": [
    {
     "name": "stdout",
     "output_type": "stream",
     "text": [
      "True\n",
      "True\n"
     ]
    }
   ],
   "source": [
    "print(len(flat_left_iris_l) == len(left_iris_l))\n",
    "print(len(flat_right_iris_l) == len(right_iris_l))"
   ]
  },
  {
   "cell_type": "markdown",
   "metadata": {},
   "source": [
    "## 3.4. Shape of flat lists"
   ]
  },
  {
   "cell_type": "code",
   "execution_count": 17,
   "metadata": {},
   "outputs": [
    {
     "name": "stdout",
     "output_type": "stream",
     "text": [
      "225\n",
      "76800\n"
     ]
    }
   ],
   "source": [
    "print(len(flat_left_iris_l))\n",
    "print(len(flat_left_iris_l[0]))"
   ]
  },
  {
   "cell_type": "markdown",
   "metadata": {},
   "source": [
    "# 4. Slicing"
   ]
  },
  {
   "cell_type": "markdown",
   "metadata": {},
   "source": [
    "## 4.1. slice_data()"
   ]
  },
  {
   "cell_type": "code",
   "execution_count": 22,
   "metadata": {},
   "outputs": [],
   "source": [
    "def slice_data(data, number_of_slices):\n",
    "    x_slice_interval_i = len(data) // number_of_slices\n",
    "    sliced_data_l = []\n",
    "    for i in range(number_of_slices):\n",
    "        sliced_data_l.append(data[x_slice_interval_i * i : x_slice_interval_i * (i+1)])\n",
    "    return sliced_data_l"
   ]
  },
  {
   "cell_type": "markdown",
   "metadata": {},
   "source": [
    "## 4.2. verification()"
   ]
  },
  {
   "cell_type": "code",
   "execution_count": 45,
   "metadata": {},
   "outputs": [],
   "source": [
    "def verification(original_data, new_data):\n",
    "    print(len(original_data) == len(new_data))\n",
    "    print(len(original_data[0]) == len(new_data[0]) * len(new_data[0][0]))"
   ]
  },
  {
   "cell_type": "markdown",
   "metadata": {},
   "source": [
    "## 4.3. Slice left iris"
   ]
  },
  {
   "cell_type": "code",
   "execution_count": 46,
   "metadata": {},
   "outputs": [
    {
     "name": "stdout",
     "output_type": "stream",
     "text": [
      "True\n",
      "True\n"
     ]
    }
   ],
   "source": [
    "number_of_slices = 5\n",
    "left_iris_sliced_into_5_l = []\n",
    "for flat_left_iris in flat_left_iris_l:\n",
    "    left_iris_sliced_into_5_l.append(slice_data(flat_left_iris, number_of_slices))\n",
    "\n",
    "verification(flat_left_iris_l, left_iris_sliced_into_5_l)"
   ]
  },
  {
   "cell_type": "code",
   "execution_count": 47,
   "metadata": {},
   "outputs": [
    {
     "name": "stdout",
     "output_type": "stream",
     "text": [
      "True\n",
      "True\n"
     ]
    }
   ],
   "source": [
    "number_of_slices = 10\n",
    "left_iris_sliced_into_10_l = []\n",
    "for flat_left_iris in flat_left_iris_l:\n",
    "    left_iris_sliced_into_10_l.append(slice_data(flat_left_iris, number_of_slices))\n",
    "\n",
    "verification(flat_left_iris_l, left_iris_sliced_into_10_l)"
   ]
  },
  {
   "cell_type": "code",
   "execution_count": 48,
   "metadata": {},
   "outputs": [
    {
     "name": "stdout",
     "output_type": "stream",
     "text": [
      "True\n",
      "True\n"
     ]
    }
   ],
   "source": [
    "number_of_slices = 100\n",
    "left_iris_sliced_into_100_l = []\n",
    "for flat_left_iris in flat_left_iris_l:\n",
    "    left_iris_sliced_into_100_l.append(slice_data(flat_left_iris, number_of_slices))\n",
    "\n",
    "verification(flat_left_iris_l, left_iris_sliced_into_100_l)"
   ]
  },
  {
   "cell_type": "markdown",
   "metadata": {},
   "source": [
    "## 4.4. Slice right iris"
   ]
  },
  {
   "cell_type": "code",
   "execution_count": 54,
   "metadata": {},
   "outputs": [
    {
     "name": "stdout",
     "output_type": "stream",
     "text": [
      "True\n",
      "True\n"
     ]
    }
   ],
   "source": [
    "number_of_slices = 5\n",
    "right_iris_sliced_into_5_l = []\n",
    "for flat_right_iris in flat_right_iris_l:\n",
    "    right_iris_sliced_into_5_l.append(slice_data(flat_right_iris, number_of_slices))\n",
    "\n",
    "verification(flat_right_iris_l, right_iris_sliced_into_5_l)"
   ]
  },
  {
   "cell_type": "code",
   "execution_count": 50,
   "metadata": {},
   "outputs": [
    {
     "name": "stdout",
     "output_type": "stream",
     "text": [
      "True\n",
      "True\n"
     ]
    }
   ],
   "source": [
    "number_of_slices = 10\n",
    "right_iris_sliced_into_10_l = []\n",
    "for flat_right_iris in flat_right_iris_l:\n",
    "    right_iris_sliced_into_10_l.append(slice_data(flat_right_iris, number_of_slices))\n",
    "\n",
    "verification(flat_right_iris_l, right_iris_sliced_into_10_l)"
   ]
  },
  {
   "cell_type": "code",
   "execution_count": 51,
   "metadata": {},
   "outputs": [
    {
     "name": "stdout",
     "output_type": "stream",
     "text": [
      "True\n",
      "True\n"
     ]
    }
   ],
   "source": [
    "number_of_slices = 100\n",
    "right_iris_sliced_into_100_l = []\n",
    "for flat_right_iris in flat_right_iris_l:\n",
    "    right_iris_sliced_into_100_l.append(slice_data(flat_right_iris, number_of_slices))\n",
    "\n",
    "verification(flat_right_iris_l, right_iris_sliced_into_100_l)"
   ]
  },
  {
   "cell_type": "markdown",
   "metadata": {},
   "source": [
    "Now we have 3 each sliced datasets for both left and right iris;\n",
    "* left_iris_sliced_into_5_l\n",
    "* left_iris_sliced_into_10_l\n",
    "* left_iris_sliced_into_100_l\n",
    "* right_iris_sliced_into_5_l\n",
    "* right_iris_sliced_into_10_l\n",
    "* right_iris_sliced_into_100_l"
   ]
  },
  {
   "cell_type": "markdown",
   "metadata": {},
   "source": [
    "# 5. DataFrame and Grayscale"
   ]
  },
  {
   "cell_type": "code",
   "execution_count": 214,
   "metadata": {},
   "outputs": [],
   "source": [
    "def rgb2gray(rgb):\n",
    "    return np.dot(rgb[...,:3], [0.2989, 0.5870, 0.1140])"
   ]
  },
  {
   "cell_type": "code",
   "execution_count": null,
   "metadata": {},
   "outputs": [],
   "source": [
    "gray_left_iris_sliced_into_5_df = left_iris_sliced_into_5_df.applymap(rgb2gray)"
   ]
  },
  {
   "cell_type": "markdown",
   "metadata": {},
   "source": [
    "# 6. Modeling: Naive Bayes"
   ]
  },
  {
   "cell_type": "code",
   "execution_count": 57,
   "metadata": {},
   "outputs": [
    {
     "name": "stdout",
     "output_type": "stream",
     "text": [
      "225\n",
      "5\n",
      "15360\n"
     ]
    }
   ],
   "source": [
    "print(len(left_iris_sliced_into_5_l))\n",
    "print(len(left_iris_sliced_into_5_l[0]))\n",
    "print(len(left_iris_sliced_into_5_l[0][0]))"
   ]
  },
  {
   "cell_type": "code",
   "execution_count": 68,
   "metadata": {},
   "outputs": [
    {
     "name": "stdout",
     "output_type": "stream",
     "text": [
      "225\n",
      "10\n",
      "7680\n"
     ]
    }
   ],
   "source": [
    "print(len(left_iris_sliced_into_10_l))\n",
    "print(len(left_iris_sliced_into_10_l[0]))\n",
    "print(len(left_iris_sliced_into_10_l[0][0]))"
   ]
  },
  {
   "cell_type": "markdown",
   "metadata": {
    "_kg_hide-input": true
   },
   "source": [
    "## 4.1. left_iris_sliced_into_5"
   ]
  },
  {
   "cell_type": "code",
   "execution_count": 116,
   "metadata": {},
   "outputs": [
    {
     "name": "stdout",
     "output_type": "stream",
     "text": [
      "<class 'list'>\n",
      "5\n",
      "<class 'list'>\n"
     ]
    }
   ],
   "source": [
    "left_iris_sliced_into_5 = left_iris_sliced_into_5_l[0]\n",
    "print(type(left_iris_sliced_into_5))\n",
    "print(len(left_iris_sliced_into_5))\n",
    "print(type(left_iris_sliced_into_5[0]))"
   ]
  },
  {
   "cell_type": "code",
   "execution_count": 130,
   "metadata": {},
   "outputs": [
    {
     "data": {
      "text/html": [
       "<div>\n",
       "<style scoped>\n",
       "    .dataframe tbody tr th:only-of-type {\n",
       "        vertical-align: middle;\n",
       "    }\n",
       "\n",
       "    .dataframe tbody tr th {\n",
       "        vertical-align: top;\n",
       "    }\n",
       "\n",
       "    .dataframe thead th {\n",
       "        text-align: right;\n",
       "    }\n",
       "</style>\n",
       "<table border=\"1\" class=\"dataframe\">\n",
       "  <thead>\n",
       "    <tr style=\"text-align: right;\">\n",
       "      <th></th>\n",
       "      <th>0</th>\n",
       "      <th>1</th>\n",
       "      <th>2</th>\n",
       "      <th>3</th>\n",
       "      <th>4</th>\n",
       "    </tr>\n",
       "  </thead>\n",
       "  <tbody>\n",
       "    <tr>\n",
       "      <th>0</th>\n",
       "      <td>[200, 204, 200]</td>\n",
       "      <td>[224, 228, 224]</td>\n",
       "      <td>[232, 236, 232]</td>\n",
       "      <td>[232, 240, 232]</td>\n",
       "      <td>[136, 140, 136]</td>\n",
       "    </tr>\n",
       "    <tr>\n",
       "      <th>1</th>\n",
       "      <td>[184, 188, 184]</td>\n",
       "      <td>[216, 224, 216]</td>\n",
       "      <td>[232, 236, 232]</td>\n",
       "      <td>[224, 228, 224]</td>\n",
       "      <td>[136, 140, 136]</td>\n",
       "    </tr>\n",
       "    <tr>\n",
       "      <th>2</th>\n",
       "      <td>[184, 188, 184]</td>\n",
       "      <td>[224, 220, 216]</td>\n",
       "      <td>[216, 220, 216]</td>\n",
       "      <td>[232, 232, 232]</td>\n",
       "      <td>[144, 144, 136]</td>\n",
       "    </tr>\n",
       "    <tr>\n",
       "      <th>3</th>\n",
       "      <td>[184, 184, 184]</td>\n",
       "      <td>[216, 220, 216]</td>\n",
       "      <td>[232, 232, 224]</td>\n",
       "      <td>[232, 232, 224]</td>\n",
       "      <td>[144, 144, 144]</td>\n",
       "    </tr>\n",
       "    <tr>\n",
       "      <th>4</th>\n",
       "      <td>[168, 176, 168]</td>\n",
       "      <td>[224, 224, 224]</td>\n",
       "      <td>[232, 228, 224]</td>\n",
       "      <td>[248, 248, 248]</td>\n",
       "      <td>[136, 144, 136]</td>\n",
       "    </tr>\n",
       "    <tr>\n",
       "      <th>5</th>\n",
       "      <td>[168, 168, 168]</td>\n",
       "      <td>[216, 224, 216]</td>\n",
       "      <td>[240, 244, 240]</td>\n",
       "      <td>[232, 236, 232]</td>\n",
       "      <td>[144, 144, 144]</td>\n",
       "    </tr>\n",
       "    <tr>\n",
       "      <th>6</th>\n",
       "      <td>[184, 184, 176]</td>\n",
       "      <td>[216, 220, 216]</td>\n",
       "      <td>[232, 240, 240]</td>\n",
       "      <td>[240, 240, 232]</td>\n",
       "      <td>[152, 152, 144]</td>\n",
       "    </tr>\n",
       "    <tr>\n",
       "      <th>7</th>\n",
       "      <td>[184, 184, 184]</td>\n",
       "      <td>[224, 220, 216]</td>\n",
       "      <td>[240, 244, 232]</td>\n",
       "      <td>[248, 248, 248]</td>\n",
       "      <td>[144, 148, 152]</td>\n",
       "    </tr>\n",
       "    <tr>\n",
       "      <th>8</th>\n",
       "      <td>[192, 192, 184]</td>\n",
       "      <td>[216, 224, 224]</td>\n",
       "      <td>[224, 224, 224]</td>\n",
       "      <td>[208, 216, 208]</td>\n",
       "      <td>[152, 152, 144]</td>\n",
       "    </tr>\n",
       "    <tr>\n",
       "      <th>9</th>\n",
       "      <td>[184, 192, 184]</td>\n",
       "      <td>[224, 224, 216]</td>\n",
       "      <td>[232, 232, 232]</td>\n",
       "      <td>[216, 212, 216]</td>\n",
       "      <td>[152, 156, 152]</td>\n",
       "    </tr>\n",
       "  </tbody>\n",
       "</table>\n",
       "</div>"
      ],
      "text/plain": [
       "                 0                1                2                3  \\\n",
       "0  [200, 204, 200]  [224, 228, 224]  [232, 236, 232]  [232, 240, 232]   \n",
       "1  [184, 188, 184]  [216, 224, 216]  [232, 236, 232]  [224, 228, 224]   \n",
       "2  [184, 188, 184]  [224, 220, 216]  [216, 220, 216]  [232, 232, 232]   \n",
       "3  [184, 184, 184]  [216, 220, 216]  [232, 232, 224]  [232, 232, 224]   \n",
       "4  [168, 176, 168]  [224, 224, 224]  [232, 228, 224]  [248, 248, 248]   \n",
       "5  [168, 168, 168]  [216, 224, 216]  [240, 244, 240]  [232, 236, 232]   \n",
       "6  [184, 184, 176]  [216, 220, 216]  [232, 240, 240]  [240, 240, 232]   \n",
       "7  [184, 184, 184]  [224, 220, 216]  [240, 244, 232]  [248, 248, 248]   \n",
       "8  [192, 192, 184]  [216, 224, 224]  [224, 224, 224]  [208, 216, 208]   \n",
       "9  [184, 192, 184]  [224, 224, 216]  [232, 232, 232]  [216, 212, 216]   \n",
       "\n",
       "                 4  \n",
       "0  [136, 140, 136]  \n",
       "1  [136, 140, 136]  \n",
       "2  [144, 144, 136]  \n",
       "3  [144, 144, 144]  \n",
       "4  [136, 144, 136]  \n",
       "5  [144, 144, 144]  \n",
       "6  [152, 152, 144]  \n",
       "7  [144, 148, 152]  \n",
       "8  [152, 152, 144]  \n",
       "9  [152, 156, 152]  "
      ]
     },
     "execution_count": 130,
     "metadata": {},
     "output_type": "execute_result"
    }
   ],
   "source": [
    "left_iris_sliced_into_5_df = pd.DataFrame(left_iris_sliced_into_5)\n",
    "left_iris_sliced_into_5_df = left_iris_sliced_into_5_df.transpose()\n",
    "left_iris_sliced_into_5_df.head(10)"
   ]
  },
  {
   "cell_type": "code",
   "execution_count": 146,
   "metadata": {},
   "outputs": [],
   "source": [
    "def rgb2gray(rgb):\n",
    "    return np.dot(rgb[...,:3], [0.2989, 0.5870, 0.1140])"
   ]
  },
  {
   "cell_type": "code",
   "execution_count": 149,
   "metadata": {},
   "outputs": [],
   "source": [
    "gray_left_iris_sliced_into_5_df = left_iris_sliced_into_5_df.applymap(rgb2gray)"
   ]
  },
  {
   "cell_type": "code",
   "execution_count": 150,
   "metadata": {},
   "outputs": [
    {
     "data": {
      "text/html": [
       "<div>\n",
       "<style scoped>\n",
       "    .dataframe tbody tr th:only-of-type {\n",
       "        vertical-align: middle;\n",
       "    }\n",
       "\n",
       "    .dataframe tbody tr th {\n",
       "        vertical-align: top;\n",
       "    }\n",
       "\n",
       "    .dataframe thead th {\n",
       "        text-align: right;\n",
       "    }\n",
       "</style>\n",
       "<table border=\"1\" class=\"dataframe\">\n",
       "  <thead>\n",
       "    <tr style=\"text-align: right;\">\n",
       "      <th></th>\n",
       "      <th>0</th>\n",
       "      <th>1</th>\n",
       "      <th>2</th>\n",
       "      <th>3</th>\n",
       "      <th>4</th>\n",
       "    </tr>\n",
       "  </thead>\n",
       "  <tbody>\n",
       "    <tr>\n",
       "      <th>0</th>\n",
       "      <td>202.3280</td>\n",
       "      <td>226.3256</td>\n",
       "      <td>234.3248</td>\n",
       "      <td>236.6728</td>\n",
       "      <td>138.3344</td>\n",
       "    </tr>\n",
       "    <tr>\n",
       "      <th>1</th>\n",
       "      <td>186.3296</td>\n",
       "      <td>220.6744</td>\n",
       "      <td>234.3248</td>\n",
       "      <td>226.3256</td>\n",
       "      <td>138.3344</td>\n",
       "    </tr>\n",
       "    <tr>\n",
       "      <th>2</th>\n",
       "      <td>186.3296</td>\n",
       "      <td>220.7176</td>\n",
       "      <td>218.3264</td>\n",
       "      <td>231.9768</td>\n",
       "      <td>143.0736</td>\n",
       "    </tr>\n",
       "    <tr>\n",
       "      <th>3</th>\n",
       "      <td>183.9816</td>\n",
       "      <td>218.3264</td>\n",
       "      <td>231.0648</td>\n",
       "      <td>231.0648</td>\n",
       "      <td>143.9856</td>\n",
       "    </tr>\n",
       "    <tr>\n",
       "      <th>4</th>\n",
       "      <td>172.6792</td>\n",
       "      <td>223.9776</td>\n",
       "      <td>228.7168</td>\n",
       "      <td>247.9752</td>\n",
       "      <td>140.6824</td>\n",
       "    </tr>\n",
       "    <tr>\n",
       "      <th>5</th>\n",
       "      <td>167.9832</td>\n",
       "      <td>220.6744</td>\n",
       "      <td>242.3240</td>\n",
       "      <td>234.3248</td>\n",
       "      <td>143.9856</td>\n",
       "    </tr>\n",
       "    <tr>\n",
       "      <th>6</th>\n",
       "      <td>183.0696</td>\n",
       "      <td>218.3264</td>\n",
       "      <td>237.5848</td>\n",
       "      <td>239.0640</td>\n",
       "      <td>151.0728</td>\n",
       "    </tr>\n",
       "    <tr>\n",
       "      <th>7</th>\n",
       "      <td>183.9816</td>\n",
       "      <td>220.7176</td>\n",
       "      <td>241.4120</td>\n",
       "      <td>247.9752</td>\n",
       "      <td>147.2456</td>\n",
       "    </tr>\n",
       "    <tr>\n",
       "      <th>8</th>\n",
       "      <td>191.0688</td>\n",
       "      <td>221.5864</td>\n",
       "      <td>223.9776</td>\n",
       "      <td>212.6752</td>\n",
       "      <td>151.0728</td>\n",
       "    </tr>\n",
       "    <tr>\n",
       "      <th>9</th>\n",
       "      <td>188.6776</td>\n",
       "      <td>223.0656</td>\n",
       "      <td>231.9768</td>\n",
       "      <td>213.6304</td>\n",
       "      <td>154.3328</td>\n",
       "    </tr>\n",
       "  </tbody>\n",
       "</table>\n",
       "</div>"
      ],
      "text/plain": [
       "          0         1         2         3         4\n",
       "0  202.3280  226.3256  234.3248  236.6728  138.3344\n",
       "1  186.3296  220.6744  234.3248  226.3256  138.3344\n",
       "2  186.3296  220.7176  218.3264  231.9768  143.0736\n",
       "3  183.9816  218.3264  231.0648  231.0648  143.9856\n",
       "4  172.6792  223.9776  228.7168  247.9752  140.6824\n",
       "5  167.9832  220.6744  242.3240  234.3248  143.9856\n",
       "6  183.0696  218.3264  237.5848  239.0640  151.0728\n",
       "7  183.9816  220.7176  241.4120  247.9752  147.2456\n",
       "8  191.0688  221.5864  223.9776  212.6752  151.0728\n",
       "9  188.6776  223.0656  231.9768  213.6304  154.3328"
      ]
     },
     "execution_count": 150,
     "metadata": {},
     "output_type": "execute_result"
    }
   ],
   "source": [
    "gray_left_iris_sliced_into_5_df.head(10)"
   ]
  },
  {
   "cell_type": "code",
   "execution_count": 138,
   "metadata": {},
   "outputs": [],
   "source": [
    "def create_x(data):\n",
    "    return data.iloc[:, :-1]"
   ]
  },
  {
   "cell_type": "code",
   "execution_count": 139,
   "metadata": {},
   "outputs": [],
   "source": [
    "def create_y(data):\n",
    "    return data.iloc[:, -1]"
   ]
  },
  {
   "cell_type": "code",
   "execution_count": 151,
   "metadata": {},
   "outputs": [],
   "source": [
    "x = create_x(gray_left_iris_sliced_into_5_df)\n",
    "y = create_y(gray_left_iris_sliced_into_5_df)"
   ]
  },
  {
   "cell_type": "code",
   "execution_count": 152,
   "metadata": {},
   "outputs": [
    {
     "name": "stdout",
     "output_type": "stream",
     "text": [
      "<class 'pandas.core.frame.DataFrame'>\n",
      "15360\n",
      "<class 'pandas.core.series.Series'>\n",
      "15360\n"
     ]
    }
   ],
   "source": [
    "print(type(x))\n",
    "print(len(x))\n",
    "print(type(y))\n",
    "print(len(y))"
   ]
  },
  {
   "cell_type": "code",
   "execution_count": 189,
   "metadata": {},
   "outputs": [],
   "source": [
    "x_train, x_test, y_train, y_test = train_test_split(x, y, test_size=0.7, random_state=0)"
   ]
  },
  {
   "cell_type": "code",
   "execution_count": 208,
   "metadata": {},
   "outputs": [],
   "source": [
    "def create_index(data):\n",
    "#     data = pd.DataFrame(data)\n",
    "    data.index = list(range(len(data)))\n",
    "    return data"
   ]
  },
  {
   "cell_type": "code",
   "execution_count": 209,
   "metadata": {},
   "outputs": [],
   "source": [
    "x_train = create_index(x_train)\n",
    "x_test = create_index(x_test)\n",
    "y_train = create_index(y_train)\n",
    "y_test = create_index(y_test)"
   ]
  },
  {
   "cell_type": "code",
   "execution_count": 210,
   "metadata": {},
   "outputs": [
    {
     "name": "stdout",
     "output_type": "stream",
     "text": [
      "(4608, 4)\n",
      "(10752, 4)\n",
      "(4608, 1)\n",
      "(10752, 1)\n"
     ]
    }
   ],
   "source": [
    "print(x_train.shape)\n",
    "print(x_test.shape)\n",
    "print(y_train.shape)\n",
    "print(y_test.shape)"
   ]
  },
  {
   "cell_type": "code",
   "execution_count": 211,
   "metadata": {},
   "outputs": [
    {
     "name": "stdout",
     "output_type": "stream",
     "text": [
      "             0         1         2         3\n",
      "0     207.9792  199.9800  157.5928   93.5992\n",
      "1     226.3256  207.9792   68.7328   66.3416\n",
      "2     175.9824  146.3336   77.6008   98.3384\n",
      "3     181.5904  167.0712  108.7288  100.6864\n",
      "4     220.6744  226.3256  231.9768  175.0704\n",
      "...        ...       ...       ...       ...\n",
      "4603  218.3264  223.9776  226.3256  157.5928\n",
      "4604  207.0672  247.9752  181.5904  189.5896\n",
      "4605  188.7208  169.4192  119.9880  116.6848\n",
      "4606  191.9808  162.3320  108.7288  119.9880\n",
      "4607  202.3280  201.4160  151.9848   90.3392\n",
      "\n",
      "[4608 rows x 4 columns]\n"
     ]
    }
   ],
   "source": [
    "print(x_train)"
   ]
  },
  {
   "cell_type": "code",
   "execution_count": 212,
   "metadata": {},
   "outputs": [
    {
     "name": "stdout",
     "output_type": "stream",
     "text": [
      "             4\n",
      "0     145.4216\n",
      "1     207.9792\n",
      "2       7.9992\n",
      "3     108.6856\n",
      "4     183.9816\n",
      "...        ...\n",
      "4603  178.3304\n",
      "4604  167.9832\n",
      "4605  140.6824\n",
      "4606  141.5944\n",
      "4607  125.5960\n",
      "\n",
      "[4608 rows x 1 columns]\n"
     ]
    }
   ],
   "source": [
    "print(y_train)"
   ]
  },
  {
   "cell_type": "code",
   "execution_count": 207,
   "metadata": {},
   "outputs": [
    {
     "data": {
      "text/plain": [
       "0       145.4216\n",
       "1       207.9792\n",
       "2         7.9992\n",
       "3       108.6856\n",
       "4       183.9816\n",
       "          ...   \n",
       "4603    178.3304\n",
       "4604    167.9832\n",
       "4605    140.6824\n",
       "4606    141.5944\n",
       "4607    125.5960\n",
       "Name: 4, Length: 4608, dtype: float64"
      ]
     },
     "execution_count": 207,
     "metadata": {},
     "output_type": "execute_result"
    }
   ],
   "source": []
  },
  {
   "cell_type": "code",
   "execution_count": 195,
   "metadata": {},
   "outputs": [],
   "source": [
    "gnb = GaussianNB()"
   ]
  },
  {
   "cell_type": "code",
   "execution_count": 196,
   "metadata": {},
   "outputs": [
    {
     "name": "stderr",
     "output_type": "stream",
     "text": [
      "/Users/immanuel/Library/Python/3.8/lib/python/site-packages/sklearn/utils/validation.py:63: DataConversionWarning: A column-vector y was passed when a 1d array was expected. Please change the shape of y to (n_samples, ), for example using ravel().\n",
      "  return f(*args, **kwargs)\n"
     ]
    },
    {
     "ename": "ValueError",
     "evalue": "Unknown label type: (array([  2.348 ,   4.696 ,   5.6512,   7.9992,  55.9944,  58.3424,\n        63.9936,  66.3416,  68.7328,  71.0808,  71.9496,  71.9928,\n        74.3408,  76.6888,  76.732 ,  77.6008,  77.644 ,  79.08  ,\n        79.992 ,  81.428 ,  82.34  ,  83.252 ,  84.688 ,  84.7312,\n        85.6   ,  85.6432,  87.0792,  87.9912,  89.4272,  90.3392,\n        91.2512,  92.6872,  92.7304,  93.5992,  93.6424,  95.0784,\n        95.9904,  97.4264,  98.3384,  99.2504, 100.6864, 100.7296,\n       101.5984, 101.6416, 103.0776, 103.9464, 103.9896, 105.4256,\n       106.3376, 107.2496, 108.6856, 108.7288, 109.5976, 109.6408,\n       111.0768, 111.9456, 111.9888, 114.3368, 115.2488, 116.6848,\n       116.728 , 117.5968, 117.64  , 119.076 , 119.988 , 121.424 ,\n       122.336 , 122.3792, 123.248 , 124.684 , 124.7272, 125.596 ,\n       125.6392, 127.032 , 127.0752, 127.944 , 127.9872, 129.4232,\n       130.3352, 131.2472, 132.6832, 132.7264, 133.5952, 133.6384,\n       135.0744, 135.9864, 137.4224, 138.3344, 138.3776, 139.2464,\n       140.6824, 140.7256, 141.5944, 141.6376, 143.0736, 143.9424,\n       143.9856, 145.4216, 146.3336, 147.2456, 148.6816, 148.7248,\n       149.5936, 149.6368, 151.0728, 151.9416, 151.9848, 153.4208,\n       154.3328, 155.2448, 156.6808, 156.724 , 157.5928, 157.636 ,\n       159.072 , 159.9408, 159.984 , 161.42  , 162.332 , 162.3752,\n       163.244 , 164.68  , 164.7232, 165.592 , 165.6352, 167.0712,\n       167.94  , 167.9832, 169.4192, 170.3312, 171.2432, 172.6792,\n       172.7224, 173.5912, 173.6344, 175.0704, 175.9392, 175.9824,\n       177.4184, 178.3304, 179.2424, 180.6784, 180.7216, 181.5904,\n       181.6336, 183.0696, 183.9384, 183.9816, 185.4176, 186.3296,\n       186.3728, 187.2416, 188.6776, 188.7208, 189.5896, 189.6328,\n       191.0688, 191.9808, 193.4168, 194.3288, 195.2408, 196.6768,\n       196.72  , 197.5888, 197.632 , 199.0248, 199.068 , 199.9368,\n       199.98  , 201.416 , 202.328 , 203.24  , 204.676 , 204.7192,\n       205.588 , 205.6312, 207.0672, 207.936 , 207.9792, 209.4152,\n       210.3272, 211.2392, 212.6752, 212.7184, 213.5872, 213.6304,\n       215.0664, 215.9784, 217.4144, 218.3264, 219.2384, 220.6744,\n       220.7176, 221.5864, 221.6296, 223.0656, 223.9776, 225.4136,\n       226.3256, 227.2376, 228.6736, 228.7168, 229.5856, 229.6288,\n       231.0216, 231.0648, 231.9768, 233.4128, 234.3248, 236.6728,\n       236.716 , 237.5848, 239.064 , 239.976 , 242.324 , 244.672 ,\n       245.584 , 247.0632, 247.9752]),)",
     "output_type": "error",
     "traceback": [
      "\u001b[0;31m---------------------------------------------------------------------------\u001b[0m",
      "\u001b[0;31mValueError\u001b[0m                                Traceback (most recent call last)",
      "\u001b[0;32m<ipython-input-196-d57985fe00ef>\u001b[0m in \u001b[0;36m<module>\u001b[0;34m\u001b[0m\n\u001b[0;32m----> 1\u001b[0;31m \u001b[0mgnb\u001b[0m\u001b[0;34m.\u001b[0m\u001b[0mfit\u001b[0m\u001b[0;34m(\u001b[0m\u001b[0mx_train\u001b[0m\u001b[0;34m,\u001b[0m \u001b[0my_train\u001b[0m\u001b[0;34m)\u001b[0m\u001b[0;34m\u001b[0m\u001b[0;34m\u001b[0m\u001b[0m\n\u001b[0m",
      "\u001b[0;32m~/Library/Python/3.8/lib/python/site-packages/sklearn/naive_bayes.py\u001b[0m in \u001b[0;36mfit\u001b[0;34m(self, X, y, sample_weight)\u001b[0m\n\u001b[1;32m    207\u001b[0m         \u001b[0mX\u001b[0m\u001b[0;34m,\u001b[0m \u001b[0my\u001b[0m \u001b[0;34m=\u001b[0m \u001b[0mself\u001b[0m\u001b[0;34m.\u001b[0m\u001b[0m_validate_data\u001b[0m\u001b[0;34m(\u001b[0m\u001b[0mX\u001b[0m\u001b[0;34m,\u001b[0m \u001b[0my\u001b[0m\u001b[0;34m)\u001b[0m\u001b[0;34m\u001b[0m\u001b[0;34m\u001b[0m\u001b[0m\n\u001b[1;32m    208\u001b[0m         \u001b[0my\u001b[0m \u001b[0;34m=\u001b[0m \u001b[0mcolumn_or_1d\u001b[0m\u001b[0;34m(\u001b[0m\u001b[0my\u001b[0m\u001b[0;34m,\u001b[0m \u001b[0mwarn\u001b[0m\u001b[0;34m=\u001b[0m\u001b[0;32mTrue\u001b[0m\u001b[0;34m)\u001b[0m\u001b[0;34m\u001b[0m\u001b[0;34m\u001b[0m\u001b[0m\n\u001b[0;32m--> 209\u001b[0;31m         return self._partial_fit(X, y, np.unique(y), _refit=True,\n\u001b[0m\u001b[1;32m    210\u001b[0m                                  sample_weight=sample_weight)\n\u001b[1;32m    211\u001b[0m \u001b[0;34m\u001b[0m\u001b[0m\n",
      "\u001b[0;32m~/Library/Python/3.8/lib/python/site-packages/sklearn/naive_bayes.py\u001b[0m in \u001b[0;36m_partial_fit\u001b[0;34m(self, X, y, classes, _refit, sample_weight)\u001b[0m\n\u001b[1;32m    372\u001b[0m             \u001b[0mself\u001b[0m\u001b[0;34m.\u001b[0m\u001b[0mclasses_\u001b[0m \u001b[0;34m=\u001b[0m \u001b[0;32mNone\u001b[0m\u001b[0;34m\u001b[0m\u001b[0;34m\u001b[0m\u001b[0m\n\u001b[1;32m    373\u001b[0m \u001b[0;34m\u001b[0m\u001b[0m\n\u001b[0;32m--> 374\u001b[0;31m         \u001b[0;32mif\u001b[0m \u001b[0m_check_partial_fit_first_call\u001b[0m\u001b[0;34m(\u001b[0m\u001b[0mself\u001b[0m\u001b[0;34m,\u001b[0m \u001b[0mclasses\u001b[0m\u001b[0;34m)\u001b[0m\u001b[0;34m:\u001b[0m\u001b[0;34m\u001b[0m\u001b[0;34m\u001b[0m\u001b[0m\n\u001b[0m\u001b[1;32m    375\u001b[0m             \u001b[0;31m# This is the first call to partial_fit:\u001b[0m\u001b[0;34m\u001b[0m\u001b[0;34m\u001b[0m\u001b[0;34m\u001b[0m\u001b[0m\n\u001b[1;32m    376\u001b[0m             \u001b[0;31m# initialize various cumulative counters\u001b[0m\u001b[0;34m\u001b[0m\u001b[0;34m\u001b[0m\u001b[0;34m\u001b[0m\u001b[0m\n",
      "\u001b[0;32m~/Library/Python/3.8/lib/python/site-packages/sklearn/utils/multiclass.py\u001b[0m in \u001b[0;36m_check_partial_fit_first_call\u001b[0;34m(clf, classes)\u001b[0m\n\u001b[1;32m    337\u001b[0m         \u001b[0;32melse\u001b[0m\u001b[0;34m:\u001b[0m\u001b[0;34m\u001b[0m\u001b[0;34m\u001b[0m\u001b[0m\n\u001b[1;32m    338\u001b[0m             \u001b[0;31m# This is the first call to partial_fit\u001b[0m\u001b[0;34m\u001b[0m\u001b[0;34m\u001b[0m\u001b[0;34m\u001b[0m\u001b[0m\n\u001b[0;32m--> 339\u001b[0;31m             \u001b[0mclf\u001b[0m\u001b[0;34m.\u001b[0m\u001b[0mclasses_\u001b[0m \u001b[0;34m=\u001b[0m \u001b[0munique_labels\u001b[0m\u001b[0;34m(\u001b[0m\u001b[0mclasses\u001b[0m\u001b[0;34m)\u001b[0m\u001b[0;34m\u001b[0m\u001b[0;34m\u001b[0m\u001b[0m\n\u001b[0m\u001b[1;32m    340\u001b[0m             \u001b[0;32mreturn\u001b[0m \u001b[0;32mTrue\u001b[0m\u001b[0;34m\u001b[0m\u001b[0;34m\u001b[0m\u001b[0m\n\u001b[1;32m    341\u001b[0m \u001b[0;34m\u001b[0m\u001b[0m\n",
      "\u001b[0;32m~/Library/Python/3.8/lib/python/site-packages/sklearn/utils/multiclass.py\u001b[0m in \u001b[0;36munique_labels\u001b[0;34m(*ys)\u001b[0m\n\u001b[1;32m     96\u001b[0m     \u001b[0m_unique_labels\u001b[0m \u001b[0;34m=\u001b[0m \u001b[0m_FN_UNIQUE_LABELS\u001b[0m\u001b[0;34m.\u001b[0m\u001b[0mget\u001b[0m\u001b[0;34m(\u001b[0m\u001b[0mlabel_type\u001b[0m\u001b[0;34m,\u001b[0m \u001b[0;32mNone\u001b[0m\u001b[0;34m)\u001b[0m\u001b[0;34m\u001b[0m\u001b[0;34m\u001b[0m\u001b[0m\n\u001b[1;32m     97\u001b[0m     \u001b[0;32mif\u001b[0m \u001b[0;32mnot\u001b[0m \u001b[0m_unique_labels\u001b[0m\u001b[0;34m:\u001b[0m\u001b[0;34m\u001b[0m\u001b[0;34m\u001b[0m\u001b[0m\n\u001b[0;32m---> 98\u001b[0;31m         \u001b[0;32mraise\u001b[0m \u001b[0mValueError\u001b[0m\u001b[0;34m(\u001b[0m\u001b[0;34m\"Unknown label type: %s\"\u001b[0m \u001b[0;34m%\u001b[0m \u001b[0mrepr\u001b[0m\u001b[0;34m(\u001b[0m\u001b[0mys\u001b[0m\u001b[0;34m)\u001b[0m\u001b[0;34m)\u001b[0m\u001b[0;34m\u001b[0m\u001b[0;34m\u001b[0m\u001b[0m\n\u001b[0m\u001b[1;32m     99\u001b[0m \u001b[0;34m\u001b[0m\u001b[0m\n\u001b[1;32m    100\u001b[0m     \u001b[0mys_labels\u001b[0m \u001b[0;34m=\u001b[0m \u001b[0mset\u001b[0m\u001b[0;34m(\u001b[0m\u001b[0mchain\u001b[0m\u001b[0;34m.\u001b[0m\u001b[0mfrom_iterable\u001b[0m\u001b[0;34m(\u001b[0m\u001b[0m_unique_labels\u001b[0m\u001b[0;34m(\u001b[0m\u001b[0my\u001b[0m\u001b[0;34m)\u001b[0m \u001b[0;32mfor\u001b[0m \u001b[0my\u001b[0m \u001b[0;32min\u001b[0m \u001b[0mys\u001b[0m\u001b[0;34m)\u001b[0m\u001b[0;34m)\u001b[0m\u001b[0;34m\u001b[0m\u001b[0;34m\u001b[0m\u001b[0m\n",
      "\u001b[0;31mValueError\u001b[0m: Unknown label type: (array([  2.348 ,   4.696 ,   5.6512,   7.9992,  55.9944,  58.3424,\n        63.9936,  66.3416,  68.7328,  71.0808,  71.9496,  71.9928,\n        74.3408,  76.6888,  76.732 ,  77.6008,  77.644 ,  79.08  ,\n        79.992 ,  81.428 ,  82.34  ,  83.252 ,  84.688 ,  84.7312,\n        85.6   ,  85.6432,  87.0792,  87.9912,  89.4272,  90.3392,\n        91.2512,  92.6872,  92.7304,  93.5992,  93.6424,  95.0784,\n        95.9904,  97.4264,  98.3384,  99.2504, 100.6864, 100.7296,\n       101.5984, 101.6416, 103.0776, 103.9464, 103.9896, 105.4256,\n       106.3376, 107.2496, 108.6856, 108.7288, 109.5976, 109.6408,\n       111.0768, 111.9456, 111.9888, 114.3368, 115.2488, 116.6848,\n       116.728 , 117.5968, 117.64  , 119.076 , 119.988 , 121.424 ,\n       122.336 , 122.3792, 123.248 , 124.684 , 124.7272, 125.596 ,\n       125.6392, 127.032 , 127.0752, 127.944 , 127.9872, 129.4232,\n       130.3352, 131.2472, 132.6832, 132.7264, 133.5952, 133.6384,\n       135.0744, 135.9864, 137.4224, 138.3344, 138.3776, 139.2464,\n       140.6824, 140.7256, 141.5944, 141.6376, 143.0736, 143.9424,\n       143.9856, 145.4216, 146.3336, 147.2456, 148.6816, 148.7248,\n       149.5936, 149.6368, 151.0728, 151.9416, 151.9848, 153.4208,\n       154.3328, 155.2448, 156.6808, 156.724 , 157.5928, 157.636 ,\n       159.072 , 159.9408, 159.984 , 161.42  , 162.332 , 162.3752,\n       163.244 , 164.68  , 164.7232, 165.592 , 165.6352, 167.0712,\n       167.94  , 167.9832, 169.4192, 170.3312, 171.2432, 172.6792,\n       172.7224, 173.5912, 173.6344, 175.0704, 175.9392, 175.9824,\n       177.4184, 178.3304, 179.2424, 180.6784, 180.7216, 181.5904,\n       181.6336, 183.0696, 183.9384, 183.9816, 185.4176, 186.3296,\n       186.3728, 187.2416, 188.6776, 188.7208, 189.5896, 189.6328,\n       191.0688, 191.9808, 193.4168, 194.3288, 195.2408, 196.6768,\n       196.72  , 197.5888, 197.632 , 199.0248, 199.068 , 199.9368,\n       199.98  , 201.416 , 202.328 , 203.24  , 204.676 , 204.7192,\n       205.588 , 205.6312, 207.0672, 207.936 , 207.9792, 209.4152,\n       210.3272, 211.2392, 212.6752, 212.7184, 213.5872, 213.6304,\n       215.0664, 215.9784, 217.4144, 218.3264, 219.2384, 220.6744,\n       220.7176, 221.5864, 221.6296, 223.0656, 223.9776, 225.4136,\n       226.3256, 227.2376, 228.6736, 228.7168, 229.5856, 229.6288,\n       231.0216, 231.0648, 231.9768, 233.4128, 234.3248, 236.6728,\n       236.716 , 237.5848, 239.064 , 239.976 , 242.324 , 244.672 ,\n       245.584 , 247.0632, 247.9752]),)"
     ]
    }
   ],
   "source": [
    "gnb.fit(x_train, y_train)"
   ]
  },
  {
   "cell_type": "code",
   "execution_count": 111,
   "metadata": {},
   "outputs": [
    {
     "ename": "ValueError",
     "evalue": "Found array with dim 3. Estimator expected <= 2.",
     "output_type": "error",
     "traceback": [
      "\u001b[0;31m---------------------------------------------------------------------------\u001b[0m",
      "\u001b[0;31mValueError\u001b[0m                                Traceback (most recent call last)",
      "\u001b[0;32m<ipython-input-111-4d716affd41c>\u001b[0m in \u001b[0;36m<module>\u001b[0;34m\u001b[0m\n\u001b[0;32m----> 1\u001b[0;31m \u001b[0my_pred\u001b[0m \u001b[0;34m=\u001b[0m \u001b[0mgnb\u001b[0m\u001b[0;34m.\u001b[0m\u001b[0mfit\u001b[0m\u001b[0;34m(\u001b[0m\u001b[0mx_train\u001b[0m\u001b[0;34m,\u001b[0m \u001b[0my_train\u001b[0m\u001b[0;34m)\u001b[0m\u001b[0;34m.\u001b[0m\u001b[0mpredict\u001b[0m\u001b[0;34m(\u001b[0m\u001b[0mx_test\u001b[0m\u001b[0;34m)\u001b[0m\u001b[0;34m\u001b[0m\u001b[0;34m\u001b[0m\u001b[0m\n\u001b[0m",
      "\u001b[0;32m~/Library/Python/3.8/lib/python/site-packages/sklearn/naive_bayes.py\u001b[0m in \u001b[0;36mfit\u001b[0;34m(self, X, y, sample_weight)\u001b[0m\n\u001b[1;32m    205\u001b[0m         \u001b[0mself\u001b[0m \u001b[0;34m:\u001b[0m \u001b[0mobject\u001b[0m\u001b[0;34m\u001b[0m\u001b[0;34m\u001b[0m\u001b[0m\n\u001b[1;32m    206\u001b[0m         \"\"\"\n\u001b[0;32m--> 207\u001b[0;31m         \u001b[0mX\u001b[0m\u001b[0;34m,\u001b[0m \u001b[0my\u001b[0m \u001b[0;34m=\u001b[0m \u001b[0mself\u001b[0m\u001b[0;34m.\u001b[0m\u001b[0m_validate_data\u001b[0m\u001b[0;34m(\u001b[0m\u001b[0mX\u001b[0m\u001b[0;34m,\u001b[0m \u001b[0my\u001b[0m\u001b[0;34m)\u001b[0m\u001b[0;34m\u001b[0m\u001b[0;34m\u001b[0m\u001b[0m\n\u001b[0m\u001b[1;32m    208\u001b[0m         \u001b[0my\u001b[0m \u001b[0;34m=\u001b[0m \u001b[0mcolumn_or_1d\u001b[0m\u001b[0;34m(\u001b[0m\u001b[0my\u001b[0m\u001b[0;34m,\u001b[0m \u001b[0mwarn\u001b[0m\u001b[0;34m=\u001b[0m\u001b[0;32mTrue\u001b[0m\u001b[0;34m)\u001b[0m\u001b[0;34m\u001b[0m\u001b[0;34m\u001b[0m\u001b[0m\n\u001b[1;32m    209\u001b[0m         return self._partial_fit(X, y, np.unique(y), _refit=True,\n",
      "\u001b[0;32m~/Library/Python/3.8/lib/python/site-packages/sklearn/base.py\u001b[0m in \u001b[0;36m_validate_data\u001b[0;34m(self, X, y, reset, validate_separately, **check_params)\u001b[0m\n\u001b[1;32m    431\u001b[0m                 \u001b[0my\u001b[0m \u001b[0;34m=\u001b[0m \u001b[0mcheck_array\u001b[0m\u001b[0;34m(\u001b[0m\u001b[0my\u001b[0m\u001b[0;34m,\u001b[0m \u001b[0;34m**\u001b[0m\u001b[0mcheck_y_params\u001b[0m\u001b[0;34m)\u001b[0m\u001b[0;34m\u001b[0m\u001b[0;34m\u001b[0m\u001b[0m\n\u001b[1;32m    432\u001b[0m             \u001b[0;32melse\u001b[0m\u001b[0;34m:\u001b[0m\u001b[0;34m\u001b[0m\u001b[0;34m\u001b[0m\u001b[0m\n\u001b[0;32m--> 433\u001b[0;31m                 \u001b[0mX\u001b[0m\u001b[0;34m,\u001b[0m \u001b[0my\u001b[0m \u001b[0;34m=\u001b[0m \u001b[0mcheck_X_y\u001b[0m\u001b[0;34m(\u001b[0m\u001b[0mX\u001b[0m\u001b[0;34m,\u001b[0m \u001b[0my\u001b[0m\u001b[0;34m,\u001b[0m \u001b[0;34m**\u001b[0m\u001b[0mcheck_params\u001b[0m\u001b[0;34m)\u001b[0m\u001b[0;34m\u001b[0m\u001b[0;34m\u001b[0m\u001b[0m\n\u001b[0m\u001b[1;32m    434\u001b[0m             \u001b[0mout\u001b[0m \u001b[0;34m=\u001b[0m \u001b[0mX\u001b[0m\u001b[0;34m,\u001b[0m \u001b[0my\u001b[0m\u001b[0;34m\u001b[0m\u001b[0;34m\u001b[0m\u001b[0m\n\u001b[1;32m    435\u001b[0m \u001b[0;34m\u001b[0m\u001b[0m\n",
      "\u001b[0;32m~/Library/Python/3.8/lib/python/site-packages/sklearn/utils/validation.py\u001b[0m in \u001b[0;36minner_f\u001b[0;34m(*args, **kwargs)\u001b[0m\n\u001b[1;32m     61\u001b[0m             \u001b[0mextra_args\u001b[0m \u001b[0;34m=\u001b[0m \u001b[0mlen\u001b[0m\u001b[0;34m(\u001b[0m\u001b[0margs\u001b[0m\u001b[0;34m)\u001b[0m \u001b[0;34m-\u001b[0m \u001b[0mlen\u001b[0m\u001b[0;34m(\u001b[0m\u001b[0mall_args\u001b[0m\u001b[0;34m)\u001b[0m\u001b[0;34m\u001b[0m\u001b[0;34m\u001b[0m\u001b[0m\n\u001b[1;32m     62\u001b[0m             \u001b[0;32mif\u001b[0m \u001b[0mextra_args\u001b[0m \u001b[0;34m<=\u001b[0m \u001b[0;36m0\u001b[0m\u001b[0;34m:\u001b[0m\u001b[0;34m\u001b[0m\u001b[0;34m\u001b[0m\u001b[0m\n\u001b[0;32m---> 63\u001b[0;31m                 \u001b[0;32mreturn\u001b[0m \u001b[0mf\u001b[0m\u001b[0;34m(\u001b[0m\u001b[0;34m*\u001b[0m\u001b[0margs\u001b[0m\u001b[0;34m,\u001b[0m \u001b[0;34m**\u001b[0m\u001b[0mkwargs\u001b[0m\u001b[0;34m)\u001b[0m\u001b[0;34m\u001b[0m\u001b[0;34m\u001b[0m\u001b[0m\n\u001b[0m\u001b[1;32m     64\u001b[0m \u001b[0;34m\u001b[0m\u001b[0m\n\u001b[1;32m     65\u001b[0m             \u001b[0;31m# extra_args > 0\u001b[0m\u001b[0;34m\u001b[0m\u001b[0;34m\u001b[0m\u001b[0;34m\u001b[0m\u001b[0m\n",
      "\u001b[0;32m~/Library/Python/3.8/lib/python/site-packages/sklearn/utils/validation.py\u001b[0m in \u001b[0;36mcheck_X_y\u001b[0;34m(X, y, accept_sparse, accept_large_sparse, dtype, order, copy, force_all_finite, ensure_2d, allow_nd, multi_output, ensure_min_samples, ensure_min_features, y_numeric, estimator)\u001b[0m\n\u001b[1;32m    812\u001b[0m         \u001b[0;32mraise\u001b[0m \u001b[0mValueError\u001b[0m\u001b[0;34m(\u001b[0m\u001b[0;34m\"y cannot be None\"\u001b[0m\u001b[0;34m)\u001b[0m\u001b[0;34m\u001b[0m\u001b[0;34m\u001b[0m\u001b[0m\n\u001b[1;32m    813\u001b[0m \u001b[0;34m\u001b[0m\u001b[0m\n\u001b[0;32m--> 814\u001b[0;31m     X = check_array(X, accept_sparse=accept_sparse,\n\u001b[0m\u001b[1;32m    815\u001b[0m                     \u001b[0maccept_large_sparse\u001b[0m\u001b[0;34m=\u001b[0m\u001b[0maccept_large_sparse\u001b[0m\u001b[0;34m,\u001b[0m\u001b[0;34m\u001b[0m\u001b[0;34m\u001b[0m\u001b[0m\n\u001b[1;32m    816\u001b[0m                     \u001b[0mdtype\u001b[0m\u001b[0;34m=\u001b[0m\u001b[0mdtype\u001b[0m\u001b[0;34m,\u001b[0m \u001b[0morder\u001b[0m\u001b[0;34m=\u001b[0m\u001b[0morder\u001b[0m\u001b[0;34m,\u001b[0m \u001b[0mcopy\u001b[0m\u001b[0;34m=\u001b[0m\u001b[0mcopy\u001b[0m\u001b[0;34m,\u001b[0m\u001b[0;34m\u001b[0m\u001b[0;34m\u001b[0m\u001b[0m\n",
      "\u001b[0;32m~/Library/Python/3.8/lib/python/site-packages/sklearn/utils/validation.py\u001b[0m in \u001b[0;36minner_f\u001b[0;34m(*args, **kwargs)\u001b[0m\n\u001b[1;32m     61\u001b[0m             \u001b[0mextra_args\u001b[0m \u001b[0;34m=\u001b[0m \u001b[0mlen\u001b[0m\u001b[0;34m(\u001b[0m\u001b[0margs\u001b[0m\u001b[0;34m)\u001b[0m \u001b[0;34m-\u001b[0m \u001b[0mlen\u001b[0m\u001b[0;34m(\u001b[0m\u001b[0mall_args\u001b[0m\u001b[0;34m)\u001b[0m\u001b[0;34m\u001b[0m\u001b[0;34m\u001b[0m\u001b[0m\n\u001b[1;32m     62\u001b[0m             \u001b[0;32mif\u001b[0m \u001b[0mextra_args\u001b[0m \u001b[0;34m<=\u001b[0m \u001b[0;36m0\u001b[0m\u001b[0;34m:\u001b[0m\u001b[0;34m\u001b[0m\u001b[0;34m\u001b[0m\u001b[0m\n\u001b[0;32m---> 63\u001b[0;31m                 \u001b[0;32mreturn\u001b[0m \u001b[0mf\u001b[0m\u001b[0;34m(\u001b[0m\u001b[0;34m*\u001b[0m\u001b[0margs\u001b[0m\u001b[0;34m,\u001b[0m \u001b[0;34m**\u001b[0m\u001b[0mkwargs\u001b[0m\u001b[0;34m)\u001b[0m\u001b[0;34m\u001b[0m\u001b[0;34m\u001b[0m\u001b[0m\n\u001b[0m\u001b[1;32m     64\u001b[0m \u001b[0;34m\u001b[0m\u001b[0m\n\u001b[1;32m     65\u001b[0m             \u001b[0;31m# extra_args > 0\u001b[0m\u001b[0;34m\u001b[0m\u001b[0;34m\u001b[0m\u001b[0;34m\u001b[0m\u001b[0m\n",
      "\u001b[0;32m~/Library/Python/3.8/lib/python/site-packages/sklearn/utils/validation.py\u001b[0m in \u001b[0;36mcheck_array\u001b[0;34m(array, accept_sparse, accept_large_sparse, dtype, order, copy, force_all_finite, ensure_2d, allow_nd, ensure_min_samples, ensure_min_features, estimator)\u001b[0m\n\u001b[1;32m    657\u001b[0m                     \"into decimal numbers with dtype='numeric'\") from e\n\u001b[1;32m    658\u001b[0m         \u001b[0;32mif\u001b[0m \u001b[0;32mnot\u001b[0m \u001b[0mallow_nd\u001b[0m \u001b[0;32mand\u001b[0m \u001b[0marray\u001b[0m\u001b[0;34m.\u001b[0m\u001b[0mndim\u001b[0m \u001b[0;34m>=\u001b[0m \u001b[0;36m3\u001b[0m\u001b[0;34m:\u001b[0m\u001b[0;34m\u001b[0m\u001b[0;34m\u001b[0m\u001b[0m\n\u001b[0;32m--> 659\u001b[0;31m             raise ValueError(\"Found array with dim %d. %s expected <= 2.\"\n\u001b[0m\u001b[1;32m    660\u001b[0m                              % (array.ndim, estimator_name))\n\u001b[1;32m    661\u001b[0m \u001b[0;34m\u001b[0m\u001b[0m\n",
      "\u001b[0;31mValueError\u001b[0m: Found array with dim 3. Estimator expected <= 2."
     ]
    }
   ],
   "source": [
    "y_pred = gnb.fit(x_train, y_train).predict(x_test)"
   ]
  },
  {
   "cell_type": "code",
   "execution_count": null,
   "metadata": {},
   "outputs": [],
   "source": []
  },
  {
   "cell_type": "code",
   "execution_count": null,
   "metadata": {},
   "outputs": [],
   "source": []
  }
 ],
 "metadata": {
  "kernelspec": {
   "display_name": "Python 3",
   "language": "python",
   "name": "python3"
  },
  "language_info": {
   "codemirror_mode": {
    "name": "ipython",
    "version": 3
   },
   "file_extension": ".py",
   "mimetype": "text/x-python",
   "name": "python",
   "nbconvert_exporter": "python",
   "pygments_lexer": "ipython3",
   "version": "3.8.2"
  }
 },
 "nbformat": 4,
 "nbformat_minor": 4
}
