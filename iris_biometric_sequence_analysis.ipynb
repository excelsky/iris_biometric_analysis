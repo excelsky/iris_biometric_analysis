{
 "cells": [
  {
   "cell_type": "markdown",
   "metadata": {},
   "source": [
    "# 1. Import libraries"
   ]
  },
  {
   "cell_type": "code",
   "execution_count": 1,
   "metadata": {
    "_kg_hide-input": false,
    "collapsed": false,
    "jupyter": {
     "outputs_hidden": false
    }
   },
   "outputs": [],
   "source": [
    "import copy # deepcopy\n",
    "import matplotlib.pyplot as plt # plotting\n",
    "import numpy as np # linear algebra\n",
    "import os # accessing directory structure\n",
    "import pandas as pd # data processing, CSV file I/O (e.g. pd.read_csv)\n",
    "import statistics # mean from statistics\n",
    "\n",
    "from collections import defaultdict\n",
    "from sklearn.model_selection import train_test_split\n",
    "from sklearn.naive_bayes import GaussianNB\n",
    "from sklearn.metrics import accuracy_score, confusion_matrix, f1_score, precision_score, recall_score, roc_auc_score\n",
    "# from hmmlearn import hmm\n",
    "from PIL import Image"
   ]
  },
  {
   "cell_type": "markdown",
   "metadata": {},
   "source": [
    "# 2. Global Variables and Load images"
   ]
  },
  {
   "cell_type": "markdown",
   "metadata": {},
   "source": [
    "## 2.1. Global Variables"
   ]
  },
  {
   "cell_type": "code",
   "execution_count": 2,
   "metadata": {},
   "outputs": [],
   "source": [
    "TOTAL_NUMBER_OF_PEOPLE = 45\n",
    "NUMBER_OF_EACH_IRIS_PER_PERSON = 5\n",
    "TOTAL_NUMBER_OF_EACH_IRIS = TOTAL_NUMBER_OF_PEOPLE * NUMBER_OF_EACH_IRIS_PER_PERSON"
   ]
  },
  {
   "cell_type": "markdown",
   "metadata": {},
   "source": [
    "## 2.2. Load images into 2 lists in 2 ways\n",
    "* RGB vs Grayscale\n",
    "* Left iris vs Right iris"
   ]
  },
  {
   "cell_type": "code",
   "execution_count": 3,
   "metadata": {
    "_kg_hide-input": false,
    "collapsed": false,
    "jupyter": {
     "outputs_hidden": false
    }
   },
   "outputs": [],
   "source": [
    "path = os.getcwd()\n",
    "rgb_left_iris_l = []\n",
    "rgb_right_iris_l = []\n",
    "gray_left_iris_l = []\n",
    "gray_right_iris_l = []\n",
    "\n",
    "for dirname, _, filenames in os.walk(path+'/data/MMU-Iris-Database/'):\n",
    "    for filename in filenames:\n",
    "        if filename not in ['.DS_Store', 'ReadMe.txt', 'Thumbs.db']:\n",
    "            dir_file_s = os.path.join(dirname, filename)\n",
    "#             print(filename)\n",
    "            dirname_l = dirname.split(\"/\")\n",
    "            if dirname_l[-1] == 'left':\n",
    "                rgb_left_iris_l.append(plt.imread(dir_file_s))\n",
    "                gray_image = Image.open(dir_file_s).convert('L')\n",
    "                gray_left_iris_l.append(np.array(gray_image))\n",
    "            elif dirname_l[-1] == 'right':\n",
    "                rgb_right_iris_l.append(plt.imread(dir_file_s))\n",
    "                gray_image = Image.open(dir_file_s).convert('L')\n",
    "                gray_right_iris_l.append(np.array(gray_image))\n",
    "            else:\n",
    "                print(f'Neither left or right iris in {dir_file_s}')"
   ]
  },
  {
   "cell_type": "markdown",
   "metadata": {},
   "source": [
    "## 2.3. Check the size of the lists"
   ]
  },
  {
   "cell_type": "code",
   "execution_count": 4,
   "metadata": {},
   "outputs": [
    {
     "name": "stdout",
     "output_type": "stream",
     "text": [
      "225\n",
      "225\n",
      "225\n",
      "225\n"
     ]
    }
   ],
   "source": [
    "print(len(rgb_left_iris_l))\n",
    "print(len(rgb_right_iris_l))\n",
    "print(len(gray_left_iris_l))\n",
    "print(len(gray_right_iris_l))"
   ]
  },
  {
   "cell_type": "code",
   "execution_count": 5,
   "metadata": {},
   "outputs": [
    {
     "name": "stdout",
     "output_type": "stream",
     "text": [
      "<class 'numpy.ndarray'> \n",
      "\n",
      "(240, 320, 3) \n",
      "\n",
      "[[[200 204 200]\n",
      "  [184 188 184]\n",
      "  [184 188 184]\n",
      "  ...\n",
      "  [ 64  68  64]\n",
      "  [ 72  76  72]\n",
      "  [ 80  76  72]]\n",
      "\n",
      " [[192 200 192]\n",
      "  [184 188 184]\n",
      "  [192 184 184]\n",
      "  ...\n",
      "  [ 80  84  80]\n",
      "  [ 72  76  72]\n",
      "  [ 80  80  80]]\n",
      "\n",
      " [[192 196 192]\n",
      "  [184 188 184]\n",
      "  [176 180 176]\n",
      "  ...\n",
      "  [ 40  52  40]\n",
      "  [ 64  60  64]\n",
      "  [ 80  76  72]]\n",
      "\n",
      " ...\n",
      "\n",
      " [[240 240 232]\n",
      "  [184 192 192]\n",
      "  [184 188 184]\n",
      "  ...\n",
      "  [128 124 120]\n",
      "  [120 128 128]\n",
      "  [128 124 120]]\n",
      "\n",
      " [[248 248 248]\n",
      "  [248 248 240]\n",
      "  [232 240 240]\n",
      "  ...\n",
      "  [152 156 152]\n",
      "  [160 160 160]\n",
      "  [160 156 152]]\n",
      "\n",
      " [[  0   4   0]\n",
      "  [  8   8   8]\n",
      "  [  0   4   0]\n",
      "  ...\n",
      "  [  0   8   0]\n",
      "  [  8   4   8]\n",
      "  [  8   8   8]]]\n"
     ]
    }
   ],
   "source": [
    "print(type(rgb_left_iris_l[0]), '\\n')\n",
    "print(rgb_left_iris_l[0].shape, '\\n')\n",
    "print(rgb_left_iris_l[0])"
   ]
  },
  {
   "cell_type": "code",
   "execution_count": 6,
   "metadata": {},
   "outputs": [
    {
     "name": "stdout",
     "output_type": "stream",
     "text": [
      "<class 'numpy.ndarray'> \n",
      "\n",
      "(240, 320) \n",
      "\n",
      "[[202 186 186 ...  66  74  77]\n",
      " [197 186 186 ...  82  74  80]\n",
      " [194 186 178 ...  47  62  77]\n",
      " ...\n",
      " [239 190 186 ... 125 126 125]\n",
      " [248 247 238 ... 154 160 157]\n",
      " [  2   8   2 ...   5   6   8]]\n"
     ]
    }
   ],
   "source": [
    "print(type(gray_left_iris_l[0]), '\\n')\n",
    "print(gray_left_iris_l[0].shape, '\\n')\n",
    "print(gray_left_iris_l[0])"
   ]
  },
  {
   "cell_type": "raw",
   "metadata": {},
   "source": [
    "Moving forward, we use the Grayscale data, because it has less dimension than the RGB data.\n",
    "So the modeling with the Grayscale data is easier than the other way around."
   ]
  },
  {
   "cell_type": "markdown",
   "metadata": {},
   "source": [
    "# 3. Slicing"
   ]
  },
  {
   "cell_type": "markdown",
   "metadata": {},
   "source": [
    "## 3.1. slice_data()"
   ]
  },
  {
   "cell_type": "code",
   "execution_count": 7,
   "metadata": {},
   "outputs": [],
   "source": [
    "def slice_data(data, number_of_slices):\n",
    "    x_slice_interval_i = len(data) // number_of_slices\n",
    "    sliced_data_l = []\n",
    "    for i in range(number_of_slices):\n",
    "        sliced_data_l.append(data[x_slice_interval_i * i : x_slice_interval_i * (i+1)])\n",
    "    return sliced_data_l"
   ]
  },
  {
   "cell_type": "markdown",
   "metadata": {},
   "source": [
    "## 3.2. print_slice_data()"
   ]
  },
  {
   "cell_type": "code",
   "execution_count": 8,
   "metadata": {},
   "outputs": [],
   "source": [
    "def print_slice_data(data):\n",
    "    print(f\"{len(data)} irises\")\n",
    "    print(f\"{len(data[0])} slices\")\n",
    "    print(f\"{len(data[0][0])} height pixels in grayscale\")\n",
    "    print(f\"{len(data[0][0][0])} width pixels in grayscale\")"
   ]
  },
  {
   "cell_type": "markdown",
   "metadata": {},
   "source": [
    "## 3.3. Slice left iris"
   ]
  },
  {
   "cell_type": "code",
   "execution_count": 9,
   "metadata": {},
   "outputs": [
    {
     "name": "stdout",
     "output_type": "stream",
     "text": [
      "225 irises\n",
      "5 slices\n",
      "48 height pixels in grayscale\n",
      "320 width pixels in grayscale\n"
     ]
    }
   ],
   "source": [
    "number_of_slices = 5\n",
    "left_iris_sliced_into_5_l = []\n",
    "for iris in gray_left_iris_l:\n",
    "    left_iris_sliced_into_5_l.append(slice_data(iris, number_of_slices))\n",
    "print_slice_data(left_iris_sliced_into_5_l)"
   ]
  },
  {
   "cell_type": "code",
   "execution_count": 10,
   "metadata": {},
   "outputs": [
    {
     "name": "stdout",
     "output_type": "stream",
     "text": [
      "225 irises\n",
      "10 slices\n",
      "24 height pixels in grayscale\n",
      "320 width pixels in grayscale\n"
     ]
    }
   ],
   "source": [
    "number_of_slices = 10\n",
    "left_iris_sliced_into_10_l = []\n",
    "for iris in gray_left_iris_l:\n",
    "    left_iris_sliced_into_10_l.append(slice_data(iris, number_of_slices))\n",
    "print_slice_data(left_iris_sliced_into_10_l)"
   ]
  },
  {
   "cell_type": "code",
   "execution_count": 11,
   "metadata": {},
   "outputs": [
    {
     "name": "stdout",
     "output_type": "stream",
     "text": [
      "225 irises\n",
      "24 slices\n",
      "10 height pixels in grayscale\n",
      "320 width pixels in grayscale\n"
     ]
    }
   ],
   "source": [
    "number_of_slices = 24\n",
    "left_iris_sliced_into_24_l = []\n",
    "for iris in gray_left_iris_l:\n",
    "    left_iris_sliced_into_24_l.append(slice_data(iris, number_of_slices))\n",
    "print_slice_data(left_iris_sliced_into_24_l)"
   ]
  },
  {
   "cell_type": "markdown",
   "metadata": {},
   "source": [
    "## 3.4. Slice right iris"
   ]
  },
  {
   "cell_type": "code",
   "execution_count": 12,
   "metadata": {},
   "outputs": [
    {
     "name": "stdout",
     "output_type": "stream",
     "text": [
      "225 irises\n",
      "5 slices\n",
      "48 height pixels in grayscale\n",
      "320 width pixels in grayscale\n"
     ]
    }
   ],
   "source": [
    "number_of_slices = 5\n",
    "right_iris_sliced_into_5_l = []\n",
    "for iris in gray_right_iris_l:\n",
    "    right_iris_sliced_into_5_l.append(slice_data(iris, number_of_slices))\n",
    "print_slice_data(right_iris_sliced_into_5_l)"
   ]
  },
  {
   "cell_type": "code",
   "execution_count": 13,
   "metadata": {},
   "outputs": [
    {
     "name": "stdout",
     "output_type": "stream",
     "text": [
      "225 irises\n",
      "10 slices\n",
      "24 height pixels in grayscale\n",
      "320 width pixels in grayscale\n"
     ]
    }
   ],
   "source": [
    "number_of_slices = 10\n",
    "right_iris_sliced_into_10_l = []\n",
    "for iris in gray_right_iris_l:\n",
    "    right_iris_sliced_into_10_l.append(slice_data(iris, number_of_slices))\n",
    "print_slice_data(right_iris_sliced_into_10_l)"
   ]
  },
  {
   "cell_type": "code",
   "execution_count": 14,
   "metadata": {},
   "outputs": [
    {
     "name": "stdout",
     "output_type": "stream",
     "text": [
      "225 irises\n",
      "24 slices\n",
      "10 height pixels in grayscale\n",
      "320 width pixels in grayscale\n"
     ]
    }
   ],
   "source": [
    "number_of_slices = 24\n",
    "right_iris_sliced_into_24_l = []\n",
    "for iris in gray_right_iris_l:\n",
    "    right_iris_sliced_into_24_l.append(slice_data(iris, number_of_slices))\n",
    "print_slice_data(right_iris_sliced_into_24_l)"
   ]
  },
  {
   "cell_type": "markdown",
   "metadata": {},
   "source": [
    "## 3.5. Convever to DataFrame"
   ]
  },
  {
   "cell_type": "code",
   "execution_count": 15,
   "metadata": {},
   "outputs": [],
   "source": [
    "left_iris_sliced_into_5_df = pd.DataFrame(left_iris_sliced_into_5_l)\n",
    "left_iris_sliced_into_10_df = pd.DataFrame(left_iris_sliced_into_10_l)\n",
    "left_iris_sliced_into_24_df = pd.DataFrame(left_iris_sliced_into_24_l)\n",
    "right_iris_sliced_into_5_df = pd.DataFrame(right_iris_sliced_into_5_l)\n",
    "right_iris_sliced_into_10_df = pd.DataFrame(right_iris_sliced_into_10_l)\n",
    "right_iris_sliced_into_24_df = pd.DataFrame(right_iris_sliced_into_24_l)"
   ]
  },
  {
   "cell_type": "markdown",
   "metadata": {},
   "source": [
    "Now we have 3 each sliced datasets for both left and right iris;\n",
    "* left_iris_sliced_into_5_df: 225 x 5 x 48 x 320\n",
    "* left_iris_sliced_into_10_df: 225 x 10 x 24 x 320\n",
    "* left_iris_sliced_into_24_df: 225 x 24 x 10 x 320\n",
    "* right_iris_sliced_into_5_df: 225 x 5 x 48 x 320\n",
    "* right_iris_sliced_into_10_df: 225 x 10 x 24 x 320\n",
    "* right_iris_sliced_into_24_df: 225 x 100 x 10 x 320\n",
    "\n",
    "The way to interpret the dimension is;\n",
    "* ex) left_iris_sliced_into_5_df has 225 left irises of 5 slices of an 48 x 320 grayscale image."
   ]
  },
  {
   "cell_type": "code",
   "execution_count": 16,
   "metadata": {},
   "outputs": [
    {
     "data": {
      "text/plain": [
       "(225, 5)"
      ]
     },
     "execution_count": 16,
     "metadata": {},
     "output_type": "execute_result"
    }
   ],
   "source": [
    "left_iris_sliced_into_5_df.shape"
   ]
  },
  {
   "cell_type": "code",
   "execution_count": 17,
   "metadata": {},
   "outputs": [
    {
     "data": {
      "text/html": [
       "<div>\n",
       "<style scoped>\n",
       "    .dataframe tbody tr th:only-of-type {\n",
       "        vertical-align: middle;\n",
       "    }\n",
       "\n",
       "    .dataframe tbody tr th {\n",
       "        vertical-align: top;\n",
       "    }\n",
       "\n",
       "    .dataframe thead th {\n",
       "        text-align: right;\n",
       "    }\n",
       "</style>\n",
       "<table border=\"1\" class=\"dataframe\">\n",
       "  <thead>\n",
       "    <tr style=\"text-align: right;\">\n",
       "      <th></th>\n",
       "      <th>0</th>\n",
       "      <th>1</th>\n",
       "      <th>2</th>\n",
       "      <th>3</th>\n",
       "      <th>4</th>\n",
       "    </tr>\n",
       "  </thead>\n",
       "  <tbody>\n",
       "    <tr>\n",
       "      <th>0</th>\n",
       "      <td>[[202, 186, 186, 184, 173, 168, 183, 184, 191,...</td>\n",
       "      <td>[[226, 221, 221, 218, 224, 221, 218, 221, 222,...</td>\n",
       "      <td>[[234, 234, 218, 231, 229, 242, 238, 241, 224,...</td>\n",
       "      <td>[[237, 226, 232, 231, 248, 234, 239, 248, 213,...</td>\n",
       "      <td>[[138, 138, 143, 144, 141, 144, 151, 147, 151,...</td>\n",
       "    </tr>\n",
       "    <tr>\n",
       "      <th>1</th>\n",
       "      <td>[[210, 202, 205, 213, 224, 226, 231, 214, 199,...</td>\n",
       "      <td>[[237, 232, 234, 231, 234, 232, 234, 234, 234,...</td>\n",
       "      <td>[[248, 248, 248, 248, 231, 234, 238, 234, 234,...</td>\n",
       "      <td>[[223, 232, 221, 226, 226, 234, 232, 202, 202,...</td>\n",
       "      <td>[[183, 178, 178, 176, 174, 181, 178, 181, 186,...</td>\n",
       "    </tr>\n",
       "    <tr>\n",
       "      <th>2</th>\n",
       "      <td>[[221, 221, 210, 214, 205, 173, 174, 183, 192,...</td>\n",
       "      <td>[[237, 229, 230, 229, 234, 226, 226, 237, 240,...</td>\n",
       "      <td>[[237, 232, 241, 248, 227, 231, 224, 226, 226,...</td>\n",
       "      <td>[[178, 175, 163, 162, 162, 162, 159, 160, 159,...</td>\n",
       "      <td>[[181, 184, 178, 183, 184, 182, 183, 178, 186,...</td>\n",
       "    </tr>\n",
       "    <tr>\n",
       "      <th>3</th>\n",
       "      <td>[[167, 154, 168, 182, 197, 199, 206, 202, 210,...</td>\n",
       "      <td>[[248, 237, 242, 240, 241, 234, 229, 227, 239,...</td>\n",
       "      <td>[[248, 248, 248, 234, 226, 210, 215, 214, 213,...</td>\n",
       "      <td>[[170, 167, 162, 160, 162, 163, 159, 162, 162,...</td>\n",
       "      <td>[[173, 168, 167, 166, 168, 167, 170, 162, 162,...</td>\n",
       "    </tr>\n",
       "    <tr>\n",
       "      <th>4</th>\n",
       "      <td>[[221, 200, 207, 202, 202, 205, 202, 202, 206,...</td>\n",
       "      <td>[[247, 232, 234, 234, 237, 240, 241, 235, 241,...</td>\n",
       "      <td>[[221, 213, 202, 198, 197, 194, 194, 194, 197,...</td>\n",
       "      <td>[[162, 159, 158, 159, 154, 160, 154, 130, 122,...</td>\n",
       "      <td>[[186, 178, 181, 181, 174, 173, 168, 165, 162,...</td>\n",
       "    </tr>\n",
       "    <tr>\n",
       "      <th>5</th>\n",
       "      <td>[[178, 143, 142, 157, 162, 168, 165, 162, 167,...</td>\n",
       "      <td>[[205, 200, 194, 197, 197, 200, 200, 202, 197,...</td>\n",
       "      <td>[[210, 207, 210, 210, 214, 213, 213, 218, 218,...</td>\n",
       "      <td>[[226, 223, 214, 215, 216, 218, 215, 214, 218,...</td>\n",
       "      <td>[[248, 231, 234, 234, 234, 230, 229, 226, 229,...</td>\n",
       "    </tr>\n",
       "    <tr>\n",
       "      <th>6</th>\n",
       "      <td>[[146, 143, 128, 122, 136, 141, 144, 138, 141,...</td>\n",
       "      <td>[[173, 160, 157, 154, 160, 159, 160, 159, 158,...</td>\n",
       "      <td>[[173, 165, 166, 168, 169, 168, 170, 170, 176,...</td>\n",
       "      <td>[[178, 175, 170, 176, 178, 178, 178, 178, 176,...</td>\n",
       "      <td>[[234, 229, 216, 223, 224, 221, 226, 224, 213,...</td>\n",
       "    </tr>\n",
       "    <tr>\n",
       "      <th>7</th>\n",
       "      <td>[[234, 223, 234, 214, 210, 202, 205, 202, 202,...</td>\n",
       "      <td>[[248, 234, 229, 232, 234, 237, 237, 234, 224,...</td>\n",
       "      <td>[[248, 226, 231, 230, 231, 230, 231, 226, 234,...</td>\n",
       "      <td>[[247, 232, 234, 234, 234, 234, 234, 237, 237,...</td>\n",
       "      <td>[[234, 218, 215, 218, 218, 216, 218, 218, 210,...</td>\n",
       "    </tr>\n",
       "    <tr>\n",
       "      <th>8</th>\n",
       "      <td>[[202, 194, 197, 202, 194, 199, 203, 201, 200,...</td>\n",
       "      <td>[[226, 213, 208, 207, 210, 213, 210, 210, 214,...</td>\n",
       "      <td>[[218, 210, 210, 215, 210, 216, 210, 218, 210,...</td>\n",
       "      <td>[[234, 226, 223, 224, 221, 226, 229, 234, 234,...</td>\n",
       "      <td>[[234, 226, 231, 226, 218, 224, 237, 240, 234,...</td>\n",
       "    </tr>\n",
       "    <tr>\n",
       "      <th>9</th>\n",
       "      <td>[[189, 178, 181, 178, 176, 173, 176, 170, 175,...</td>\n",
       "      <td>[[218, 202, 202, 207, 224, 218, 207, 210, 208,...</td>\n",
       "      <td>[[229, 216, 213, 216, 215, 216, 213, 216, 213,...</td>\n",
       "      <td>[[248, 226, 223, 230, 223, 226, 232, 234, 231,...</td>\n",
       "      <td>[[218, 213, 213, 214, 215, 216, 218, 218, 218,...</td>\n",
       "    </tr>\n",
       "  </tbody>\n",
       "</table>\n",
       "</div>"
      ],
      "text/plain": [
       "                                                   0  \\\n",
       "0  [[202, 186, 186, 184, 173, 168, 183, 184, 191,...   \n",
       "1  [[210, 202, 205, 213, 224, 226, 231, 214, 199,...   \n",
       "2  [[221, 221, 210, 214, 205, 173, 174, 183, 192,...   \n",
       "3  [[167, 154, 168, 182, 197, 199, 206, 202, 210,...   \n",
       "4  [[221, 200, 207, 202, 202, 205, 202, 202, 206,...   \n",
       "5  [[178, 143, 142, 157, 162, 168, 165, 162, 167,...   \n",
       "6  [[146, 143, 128, 122, 136, 141, 144, 138, 141,...   \n",
       "7  [[234, 223, 234, 214, 210, 202, 205, 202, 202,...   \n",
       "8  [[202, 194, 197, 202, 194, 199, 203, 201, 200,...   \n",
       "9  [[189, 178, 181, 178, 176, 173, 176, 170, 175,...   \n",
       "\n",
       "                                                   1  \\\n",
       "0  [[226, 221, 221, 218, 224, 221, 218, 221, 222,...   \n",
       "1  [[237, 232, 234, 231, 234, 232, 234, 234, 234,...   \n",
       "2  [[237, 229, 230, 229, 234, 226, 226, 237, 240,...   \n",
       "3  [[248, 237, 242, 240, 241, 234, 229, 227, 239,...   \n",
       "4  [[247, 232, 234, 234, 237, 240, 241, 235, 241,...   \n",
       "5  [[205, 200, 194, 197, 197, 200, 200, 202, 197,...   \n",
       "6  [[173, 160, 157, 154, 160, 159, 160, 159, 158,...   \n",
       "7  [[248, 234, 229, 232, 234, 237, 237, 234, 224,...   \n",
       "8  [[226, 213, 208, 207, 210, 213, 210, 210, 214,...   \n",
       "9  [[218, 202, 202, 207, 224, 218, 207, 210, 208,...   \n",
       "\n",
       "                                                   2  \\\n",
       "0  [[234, 234, 218, 231, 229, 242, 238, 241, 224,...   \n",
       "1  [[248, 248, 248, 248, 231, 234, 238, 234, 234,...   \n",
       "2  [[237, 232, 241, 248, 227, 231, 224, 226, 226,...   \n",
       "3  [[248, 248, 248, 234, 226, 210, 215, 214, 213,...   \n",
       "4  [[221, 213, 202, 198, 197, 194, 194, 194, 197,...   \n",
       "5  [[210, 207, 210, 210, 214, 213, 213, 218, 218,...   \n",
       "6  [[173, 165, 166, 168, 169, 168, 170, 170, 176,...   \n",
       "7  [[248, 226, 231, 230, 231, 230, 231, 226, 234,...   \n",
       "8  [[218, 210, 210, 215, 210, 216, 210, 218, 210,...   \n",
       "9  [[229, 216, 213, 216, 215, 216, 213, 216, 213,...   \n",
       "\n",
       "                                                   3  \\\n",
       "0  [[237, 226, 232, 231, 248, 234, 239, 248, 213,...   \n",
       "1  [[223, 232, 221, 226, 226, 234, 232, 202, 202,...   \n",
       "2  [[178, 175, 163, 162, 162, 162, 159, 160, 159,...   \n",
       "3  [[170, 167, 162, 160, 162, 163, 159, 162, 162,...   \n",
       "4  [[162, 159, 158, 159, 154, 160, 154, 130, 122,...   \n",
       "5  [[226, 223, 214, 215, 216, 218, 215, 214, 218,...   \n",
       "6  [[178, 175, 170, 176, 178, 178, 178, 178, 176,...   \n",
       "7  [[247, 232, 234, 234, 234, 234, 234, 237, 237,...   \n",
       "8  [[234, 226, 223, 224, 221, 226, 229, 234, 234,...   \n",
       "9  [[248, 226, 223, 230, 223, 226, 232, 234, 231,...   \n",
       "\n",
       "                                                   4  \n",
       "0  [[138, 138, 143, 144, 141, 144, 151, 147, 151,...  \n",
       "1  [[183, 178, 178, 176, 174, 181, 178, 181, 186,...  \n",
       "2  [[181, 184, 178, 183, 184, 182, 183, 178, 186,...  \n",
       "3  [[173, 168, 167, 166, 168, 167, 170, 162, 162,...  \n",
       "4  [[186, 178, 181, 181, 174, 173, 168, 165, 162,...  \n",
       "5  [[248, 231, 234, 234, 234, 230, 229, 226, 229,...  \n",
       "6  [[234, 229, 216, 223, 224, 221, 226, 224, 213,...  \n",
       "7  [[234, 218, 215, 218, 218, 216, 218, 218, 210,...  \n",
       "8  [[234, 226, 231, 226, 218, 224, 237, 240, 234,...  \n",
       "9  [[218, 213, 213, 214, 215, 216, 218, 218, 218,...  "
      ]
     },
     "execution_count": 17,
     "metadata": {},
     "output_type": "execute_result"
    }
   ],
   "source": [
    "left_iris_sliced_into_5_df.head(10)"
   ]
  },
  {
   "cell_type": "code",
   "execution_count": 18,
   "metadata": {},
   "outputs": [
    {
     "name": "stdout",
     "output_type": "stream",
     "text": [
      "1\n",
      "(48, 320)\n",
      "<class 'numpy.ndarray'>\n",
      "   0    1    2    3    4    5    6    7    8    9    ...  310  311  312  313  \\\n",
      "0  202  186  186  184  173  168  183  184  191  189  ...   40   42   47   64   \n",
      "1  197  186  186  176  173  173  182  193  198  197  ...   80   82   85   93   \n",
      "2  194  186  178  178  175  176  189  197  200  202  ...   80   77   64   61   \n",
      "3  202  183  178  170  176  186  194  210  207  200  ...   56   64   71   75   \n",
      "4  186  183  176  178  194  198  207  216  218  194  ...  103   98   98   98   \n",
      "\n",
      "   314  315  316  317  318  319  \n",
      "0   66   70   66   66   74   77  \n",
      "1   83   98   77   82   74   80  \n",
      "2   56   53   54   47   62   77  \n",
      "3   79   82   83   85   85   96  \n",
      "4   88   88   82   88   74   98  \n",
      "\n",
      "[5 rows x 320 columns]\n"
     ]
    }
   ],
   "source": [
    "print(len(left_iris_sliced_into_5_df[0].shape))\n",
    "print(left_iris_sliced_into_5_df[0][0].shape)\n",
    "print(type(left_iris_sliced_into_5_df[0][0]))\n",
    "print(pd.DataFrame(left_iris_sliced_into_5_df[0][0]).head())"
   ]
  },
  {
   "cell_type": "markdown",
   "metadata": {},
   "source": [
    "# 4. Add Label"
   ]
  },
  {
   "cell_type": "code",
   "execution_count": 19,
   "metadata": {},
   "outputs": [],
   "source": [
    "left_target_df = pd.DataFrame(0, index=[i for i in range(TOTAL_NUMBER_OF_EACH_IRIS)], columns=[\"target\"])\n",
    "right_target_df = pd.DataFrame(1, index=[i for i in range(TOTAL_NUMBER_OF_EACH_IRIS)], columns=[\"target\"])"
   ]
  },
  {
   "cell_type": "markdown",
   "metadata": {},
   "source": [
    "# 5. Modeling: Naive Bayes"
   ]
  },
  {
   "cell_type": "markdown",
   "metadata": {},
   "source": [
    "## 5.1. Helper Functions"
   ]
  },
  {
   "cell_type": "markdown",
   "metadata": {
    "_kg_hide-input": true
   },
   "source": [
    "### 5.1. create_y()"
   ]
  },
  {
   "cell_type": "code",
   "execution_count": 20,
   "metadata": {},
   "outputs": [],
   "source": [
    "def create_y(data, left_or_right_s):\n",
    "    length = len(data)\n",
    "    left_right_d = {\"left\": 0, \"right\": 1}\n",
    "    left_right_i = left_right_d[left_or_right_s.lower()]\n",
    "    return pd.DataFrame(left_right_i, index=[i for i in range(length)], columns=[\"target\"])"
   ]
  },
  {
   "cell_type": "markdown",
   "metadata": {},
   "source": [
    "### 5.2. cbind()"
   ]
  },
  {
   "cell_type": "code",
   "execution_count": 21,
   "metadata": {},
   "outputs": [],
   "source": [
    "def cbind(left_data, right_data):\n",
    "    return pd.concat([pd.DataFrame(left_data), pd.DataFrame(right_data)])"
   ]
  },
  {
   "cell_type": "markdown",
   "metadata": {},
   "source": [
    "### 5.3. rbind_and_shuffle()"
   ]
  },
  {
   "cell_type": "code",
   "execution_count": 22,
   "metadata": {},
   "outputs": [],
   "source": [
    "def rbind_and_shuffle(x, y):\n",
    "    if pd.DataFrame(x).shape[0] != pd.DataFrame(y).shape[0]:\n",
    "        raise Exception(\"The number of rows between x and y should be the same.\")\n",
    "    rbind_df = pd.concat([x, y], axis=1)\n",
    "    rbind_df.sample(frac=1).reset_index(drop=True)\n",
    "    return rbind_df.iloc[:, :-1], rbind_df.iloc[:, -1]"
   ]
  },
  {
   "cell_type": "markdown",
   "metadata": {},
   "source": [
    "### 5.4. get_metrics()"
   ]
  },
  {
   "cell_type": "code",
   "execution_count": 23,
   "metadata": {},
   "outputs": [],
   "source": [
    "def get_metrics(x, y, clf, metric_d):\n",
    "    x_train, x_test, y_train, y_test = train_test_split(x, y, test_size=0.3, random_state=0)\n",
    "    clf.fit(x_train, y_train)\n",
    "    y_pred = clf.fit(x_train, y_train).predict(x_test)\n",
    "    \n",
    "    acc = accuracy_score(y_test, y_pred)\n",
    "    pre = precision_score(y_test, y_pred)\n",
    "    rec = recall_score(y_test, y_pred)\n",
    "    f1 = f1_score(y_test, y_pred)\n",
    "    roc_auc = roc_auc_score(y_test, y_pred)\n",
    "    \n",
    "    metric_d[\"acc\"].append(acc)\n",
    "    metric_d[\"pre\"].append(pre)\n",
    "    metric_d[\"rec\"].append(rec)\n",
    "    metric_d[\"f1\"].append(f1)\n",
    "    metric_d[\"roc_auc\"].append(roc_auc)\n",
    "    \n",
    "    return metric_d"
   ]
  },
  {
   "cell_type": "markdown",
   "metadata": {},
   "source": [
    "### 5.5. loop_through_data()"
   ]
  },
  {
   "cell_type": "code",
   "execution_count": 24,
   "metadata": {},
   "outputs": [],
   "source": [
    "def loop_through_data(left_data, right_data, clf, metric_d, agg_metric_d):\n",
    "    if left_data.shape != right_data.shape:\n",
    "        raise Exception(\"The shape of left_data and right_data should be the same.\")\n",
    "\n",
    "    n_iris_i, n_slice_i = left_data.shape\n",
    "    for iris_index in range(n_iris_i):\n",
    "        for slice_index in range(n_slice_i):\n",
    "            left_iris_slice_nda = left_data.iloc[iris_index, slice_index]\n",
    "            right_iris_slice_nda = right_data.iloc[iris_index, slice_index]\n",
    "            x = cbind(left_iris_slice_nda, right_iris_slice_nda)\n",
    "            \n",
    "            left_y = create_y(left_iris_slice_nda, \"left\")\n",
    "            right_y = create_y(right_iris_slice_nda, \"right\")\n",
    "            y = cbind(left_y, right_y)\n",
    "            y = y.squeeze()\n",
    "            \n",
    "            x, y = rbind_and_shuffle(x, y)\n",
    "            \n",
    "            metric_d = get_metrics(x, y, clf, metric_d)\n",
    "\n",
    "        for metric in agg_metric_d.keys():\n",
    "            agg_metric_d[metric] = statistics.mean(metric_d[metric])\n",
    "            metric_d[metric].clear()\n",
    "\n",
    "    return agg_metric_d"
   ]
  },
  {
   "cell_type": "markdown",
   "metadata": {},
   "source": [
    "## 5.2. Run"
   ]
  },
  {
   "cell_type": "code",
   "execution_count": 25,
   "metadata": {},
   "outputs": [],
   "source": [
    "iris_metric_d = defaultdict(dict)"
   ]
  },
  {
   "cell_type": "markdown",
   "metadata": {},
   "source": [
    "### 5.2.1. sliced_into_5"
   ]
  },
  {
   "cell_type": "code",
   "execution_count": 26,
   "metadata": {},
   "outputs": [],
   "source": [
    "metric_d = {\"acc\": []\n",
    "           , \"pre\": []\n",
    "           , \"rec\": []\n",
    "           , \"f1\": []\n",
    "           , \"roc_auc\": []}\n",
    "agg_metric_d = copy.deepcopy(metric_d)"
   ]
  },
  {
   "cell_type": "code",
   "execution_count": 27,
   "metadata": {},
   "outputs": [],
   "source": [
    "agg_metric_d = loop_through_data(left_iris_sliced_into_5_df, right_iris_sliced_into_5_df, GaussianNB(), metric_d, agg_metric_d)"
   ]
  },
  {
   "cell_type": "code",
   "execution_count": 28,
   "metadata": {},
   "outputs": [
    {
     "data": {
      "text/plain": [
       "{'acc': 0.9970588235294118,\n",
       " 'pre': 1.0,\n",
       " 'rec': 0.9939393939393939,\n",
       " 'f1': 0.9969230769230769,\n",
       " 'roc_auc': 0.996969696969697}"
      ]
     },
     "execution_count": 28,
     "metadata": {},
     "output_type": "execute_result"
    }
   ],
   "source": [
    "iris_metric_d[5] = agg_metric_d\n",
    "agg_metric_d"
   ]
  },
  {
   "cell_type": "markdown",
   "metadata": {},
   "source": [
    "### 5.2.2. sliced_into_10"
   ]
  },
  {
   "cell_type": "code",
   "execution_count": 29,
   "metadata": {},
   "outputs": [],
   "source": [
    "metric_d = {\"acc\": []\n",
    "           , \"pre\": []\n",
    "           , \"rec\": []\n",
    "           , \"f1\": []\n",
    "           , \"roc_auc\": []}\n",
    "agg_metric_d = copy.deepcopy(metric_d)"
   ]
  },
  {
   "cell_type": "code",
   "execution_count": 30,
   "metadata": {},
   "outputs": [
    {
     "name": "stderr",
     "output_type": "stream",
     "text": [
      "/Users/immanuel/Library/Python/3.8/lib/python/site-packages/sklearn/metrics/_classification.py:1245: UndefinedMetricWarning: Precision is ill-defined and being set to 0.0 due to no predicted samples. Use `zero_division` parameter to control this behavior.\n",
      "  _warn_prf(average, modifier, msg_start, len(result))\n",
      "/Users/immanuel/Library/Python/3.8/lib/python/site-packages/sklearn/metrics/_classification.py:1245: UndefinedMetricWarning: Precision is ill-defined and being set to 0.0 due to no predicted samples. Use `zero_division` parameter to control this behavior.\n",
      "  _warn_prf(average, modifier, msg_start, len(result))\n",
      "/Users/immanuel/Library/Python/3.8/lib/python/site-packages/sklearn/metrics/_classification.py:1245: UndefinedMetricWarning: Precision is ill-defined and being set to 0.0 due to no predicted samples. Use `zero_division` parameter to control this behavior.\n",
      "  _warn_prf(average, modifier, msg_start, len(result))\n",
      "/Users/immanuel/Library/Python/3.8/lib/python/site-packages/sklearn/metrics/_classification.py:1245: UndefinedMetricWarning: Precision is ill-defined and being set to 0.0 due to no predicted samples. Use `zero_division` parameter to control this behavior.\n",
      "  _warn_prf(average, modifier, msg_start, len(result))\n",
      "/Users/immanuel/Library/Python/3.8/lib/python/site-packages/sklearn/metrics/_classification.py:1245: UndefinedMetricWarning: Precision is ill-defined and being set to 0.0 due to no predicted samples. Use `zero_division` parameter to control this behavior.\n",
      "  _warn_prf(average, modifier, msg_start, len(result))\n"
     ]
    }
   ],
   "source": [
    "agg_metric_d = loop_through_data(left_iris_sliced_into_10_df, right_iris_sliced_into_10_df, GaussianNB(), metric_d, agg_metric_d)"
   ]
  },
  {
   "cell_type": "code",
   "execution_count": 31,
   "metadata": {},
   "outputs": [
    {
     "data": {
      "text/plain": [
       "{'acc': 0.9676470588235294,\n",
       " 'pre': 1.0,\n",
       " 'rec': 0.9388888888888889,\n",
       " 'f1': 0.956,\n",
       " 'roc_auc': 0.9694444444444444}"
      ]
     },
     "execution_count": 31,
     "metadata": {},
     "output_type": "execute_result"
    }
   ],
   "source": [
    "iris_metric_d[10] = agg_metric_d\n",
    "agg_metric_d"
   ]
  },
  {
   "cell_type": "markdown",
   "metadata": {},
   "source": [
    "### 5.2.3. sliced_into_24"
   ]
  },
  {
   "cell_type": "code",
   "execution_count": 32,
   "metadata": {},
   "outputs": [],
   "source": [
    "metric_d = {\"acc\": []\n",
    "           , \"pre\": []\n",
    "           , \"rec\": []\n",
    "           , \"f1\": []\n",
    "           , \"roc_auc\": []}\n",
    "agg_metric_d = copy.deepcopy(metric_d)"
   ]
  },
  {
   "cell_type": "code",
   "execution_count": 33,
   "metadata": {},
   "outputs": [],
   "source": [
    "agg_metric_d = loop_through_data(left_iris_sliced_into_24_df, right_iris_sliced_into_24_df, GaussianNB(), metric_d, agg_metric_d)"
   ]
  },
  {
   "cell_type": "code",
   "execution_count": 34,
   "metadata": {},
   "outputs": [
    {
     "data": {
      "text/plain": [
       "{'acc': 0.6398809523809523,\n",
       " 'pre': 0.6053508991008991,\n",
       " 'rec': 1.0,\n",
       " 'f1': 0.7332763942284066,\n",
       " 'roc_auc': 0.6848958333333334}"
      ]
     },
     "execution_count": 34,
     "metadata": {},
     "output_type": "execute_result"
    }
   ],
   "source": [
    "iris_metric_d[24] = agg_metric_d\n",
    "agg_metric_d"
   ]
  },
  {
   "cell_type": "markdown",
   "metadata": {},
   "source": [
    "# 6. Data Visualization"
   ]
  },
  {
   "cell_type": "markdown",
   "metadata": {},
   "source": [
    "## 6.1. Convert Dict to DataFrame"
   ]
  },
  {
   "cell_type": "code",
   "execution_count": 35,
   "metadata": {},
   "outputs": [
    {
     "data": {
      "text/plain": [
       "defaultdict(dict,\n",
       "            {5: {'acc': 0.9970588235294118,\n",
       "              'pre': 1.0,\n",
       "              'rec': 0.9939393939393939,\n",
       "              'f1': 0.9969230769230769,\n",
       "              'roc_auc': 0.996969696969697},\n",
       "             10: {'acc': 0.9676470588235294,\n",
       "              'pre': 1.0,\n",
       "              'rec': 0.9388888888888889,\n",
       "              'f1': 0.956,\n",
       "              'roc_auc': 0.9694444444444444},\n",
       "             24: {'acc': 0.6398809523809523,\n",
       "              'pre': 0.6053508991008991,\n",
       "              'rec': 1.0,\n",
       "              'f1': 0.7332763942284066,\n",
       "              'roc_auc': 0.6848958333333334}})"
      ]
     },
     "execution_count": 35,
     "metadata": {},
     "output_type": "execute_result"
    }
   ],
   "source": [
    "iris_metric_d"
   ]
  },
  {
   "cell_type": "code",
   "execution_count": 36,
   "metadata": {},
   "outputs": [],
   "source": [
    "iris_metric_df = pd.DataFrame.from_dict(iris_metric_d)"
   ]
  },
  {
   "cell_type": "code",
   "execution_count": 37,
   "metadata": {},
   "outputs": [
    {
     "data": {
      "text/html": [
       "<div>\n",
       "<style scoped>\n",
       "    .dataframe tbody tr th:only-of-type {\n",
       "        vertical-align: middle;\n",
       "    }\n",
       "\n",
       "    .dataframe tbody tr th {\n",
       "        vertical-align: top;\n",
       "    }\n",
       "\n",
       "    .dataframe thead th {\n",
       "        text-align: right;\n",
       "    }\n",
       "</style>\n",
       "<table border=\"1\" class=\"dataframe\">\n",
       "  <thead>\n",
       "    <tr style=\"text-align: right;\">\n",
       "      <th></th>\n",
       "      <th>5</th>\n",
       "      <th>10</th>\n",
       "      <th>24</th>\n",
       "    </tr>\n",
       "  </thead>\n",
       "  <tbody>\n",
       "    <tr>\n",
       "      <th>acc</th>\n",
       "      <td>0.997059</td>\n",
       "      <td>0.967647</td>\n",
       "      <td>0.639881</td>\n",
       "    </tr>\n",
       "    <tr>\n",
       "      <th>pre</th>\n",
       "      <td>1.000000</td>\n",
       "      <td>1.000000</td>\n",
       "      <td>0.605351</td>\n",
       "    </tr>\n",
       "    <tr>\n",
       "      <th>rec</th>\n",
       "      <td>0.993939</td>\n",
       "      <td>0.938889</td>\n",
       "      <td>1.000000</td>\n",
       "    </tr>\n",
       "    <tr>\n",
       "      <th>f1</th>\n",
       "      <td>0.996923</td>\n",
       "      <td>0.956000</td>\n",
       "      <td>0.733276</td>\n",
       "    </tr>\n",
       "    <tr>\n",
       "      <th>roc_auc</th>\n",
       "      <td>0.996970</td>\n",
       "      <td>0.969444</td>\n",
       "      <td>0.684896</td>\n",
       "    </tr>\n",
       "  </tbody>\n",
       "</table>\n",
       "</div>"
      ],
      "text/plain": [
       "               5         10        24\n",
       "acc      0.997059  0.967647  0.639881\n",
       "pre      1.000000  1.000000  0.605351\n",
       "rec      0.993939  0.938889  1.000000\n",
       "f1       0.996923  0.956000  0.733276\n",
       "roc_auc  0.996970  0.969444  0.684896"
      ]
     },
     "execution_count": 37,
     "metadata": {},
     "output_type": "execute_result"
    }
   ],
   "source": [
    "iris_metric_df"
   ]
  },
  {
   "cell_type": "code",
   "execution_count": 40,
   "metadata": {},
   "outputs": [],
   "source": [
    "iris_metric_df.columns = [str(i) for i in iris_metric_df.columns]"
   ]
  },
  {
   "cell_type": "markdown",
   "metadata": {},
   "source": [
    "## 6.2. Transpose"
   ]
  },
  {
   "cell_type": "code",
   "execution_count": 49,
   "metadata": {},
   "outputs": [
    {
     "data": {
      "text/html": [
       "<div>\n",
       "<style scoped>\n",
       "    .dataframe tbody tr th:only-of-type {\n",
       "        vertical-align: middle;\n",
       "    }\n",
       "\n",
       "    .dataframe tbody tr th {\n",
       "        vertical-align: top;\n",
       "    }\n",
       "\n",
       "    .dataframe thead th {\n",
       "        text-align: right;\n",
       "    }\n",
       "</style>\n",
       "<table border=\"1\" class=\"dataframe\">\n",
       "  <thead>\n",
       "    <tr style=\"text-align: right;\">\n",
       "      <th></th>\n",
       "      <th>acc</th>\n",
       "      <th>pre</th>\n",
       "      <th>rec</th>\n",
       "      <th>f1</th>\n",
       "      <th>roc_auc</th>\n",
       "    </tr>\n",
       "  </thead>\n",
       "  <tbody>\n",
       "    <tr>\n",
       "      <th>5</th>\n",
       "      <td>0.997059</td>\n",
       "      <td>1.000000</td>\n",
       "      <td>0.993939</td>\n",
       "      <td>0.996923</td>\n",
       "      <td>0.996970</td>\n",
       "    </tr>\n",
       "    <tr>\n",
       "      <th>10</th>\n",
       "      <td>0.967647</td>\n",
       "      <td>1.000000</td>\n",
       "      <td>0.938889</td>\n",
       "      <td>0.956000</td>\n",
       "      <td>0.969444</td>\n",
       "    </tr>\n",
       "    <tr>\n",
       "      <th>24</th>\n",
       "      <td>0.639881</td>\n",
       "      <td>0.605351</td>\n",
       "      <td>1.000000</td>\n",
       "      <td>0.733276</td>\n",
       "      <td>0.684896</td>\n",
       "    </tr>\n",
       "  </tbody>\n",
       "</table>\n",
       "</div>"
      ],
      "text/plain": [
       "         acc       pre       rec        f1   roc_auc\n",
       "5   0.997059  1.000000  0.993939  0.996923  0.996970\n",
       "10  0.967647  1.000000  0.938889  0.956000  0.969444\n",
       "24  0.639881  0.605351  1.000000  0.733276  0.684896"
      ]
     },
     "execution_count": 49,
     "metadata": {},
     "output_type": "execute_result"
    }
   ],
   "source": [
    "iris_metric_df = iris_metric_df.transpose()\n",
    "iris_metric_df"
   ]
  },
  {
   "cell_type": "markdown",
   "metadata": {},
   "source": [
    "## 6.3. Data Visualization"
   ]
  },
  {
   "cell_type": "code",
   "execution_count": 50,
   "metadata": {},
   "outputs": [
    {
     "data": {
      "text/plain": [
       "Index(['5', '10', '24'], dtype='object')"
      ]
     },
     "execution_count": 50,
     "metadata": {},
     "output_type": "execute_result"
    }
   ],
   "source": [
    "iris_metric_df.index"
   ]
  },
  {
   "cell_type": "code",
   "execution_count": 52,
   "metadata": {},
   "outputs": [
    {
     "data": {
      "text/plain": [
       "Index(['acc', 'pre', 'rec', 'f1', 'roc_auc'], dtype='object')"
      ]
     },
     "execution_count": 52,
     "metadata": {},
     "output_type": "execute_result"
    }
   ],
   "source": [
    "iris_metric_df.columns"
   ]
  },
  {
   "cell_type": "code",
   "execution_count": 74,
   "metadata": {},
   "outputs": [
    {
     "data": {
      "image/png": "[encoded data removed]",
      "text/plain": [
       "<Figure size 432x288 with 1 Axes>"
      ]
     },
     "metadata": {
      "needs_background": "light"
     },
     "output_type": "display_data"
    }
   ],
   "source": [
    "iris_metric_df.plot(y=iris_metric_df.columns, use_index=True, kind=\"bar\")\n",
    "plt.legend(bbox_to_anchor=(1.3, 1.1))\n",
    "plt.title(\"Naive Bayes Metrics by Slices\")\n",
    "plt.xticks(rotation=0)\n",
    "plt.xlabel(\"Number of Slices\")\n",
    "plt.ylabel(\"Metrics from 0 to 1\")"
   ]
  },
  {
   "cell_type": "code",
   "execution_count": null,
   "metadata": {},
   "outputs": [],
   "source": []
  },
  {
   "cell_type": "code",
   "execution_count": null,
   "metadata": {},
   "outputs": [],
   "source": []
  }
 ],
 "metadata": {
  "kernelspec": {
   "display_name": "Python 3",
   "language": "python",
   "name": "python3"
  },
  "language_info": {
   "codemirror_mode": {
    "name": "ipython",
    "version": 3
   },
   "file_extension": ".py",
   "mimetype": "text/x-python",
   "name": "python",
   "nbconvert_exporter": "python",
   "pygments_lexer": "ipython3",
   "version": "3.8.2"
  }
 },
 "nbformat": 4,
 "nbformat_minor": 4
}
